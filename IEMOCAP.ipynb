{
 "cells": [
  {
   "cell_type": "code",
   "execution_count": 1,
   "metadata": {},
   "outputs": [
    {
     "name": "stderr",
     "output_type": "stream",
     "text": [
      "Using TensorFlow backend.\n"
     ]
    },
    {
     "data": {
      "text/html": [
       "        <script type=\"text/javascript\">\n",
       "        window.PlotlyConfig = {MathJaxConfig: 'local'};\n",
       "        if (window.MathJax) {MathJax.Hub.Config({SVG: {font: \"STIX-Web\"}});}\n",
       "        if (typeof require !== 'undefined') {\n",
       "        require.undef(\"plotly\");\n",
       "        requirejs.config({\n",
       "            paths: {\n",
       "                'plotly': ['https://cdn.plot.ly/plotly-latest.min']\n",
       "            }\n",
       "        });\n",
       "        require(['plotly'], function(Plotly) {\n",
       "            window._Plotly = Plotly;\n",
       "        });\n",
       "        }\n",
       "        </script>\n",
       "        "
      ]
     },
     "metadata": {},
     "output_type": "display_data"
    }
   ],
   "source": [
    "## Python\n",
    "import os\n",
    "import random\n",
    "import sys\n",
    "\n",
    "\n",
    "## Package\n",
    "import glob \n",
    "import keras\n",
    "import IPython.display as ipd\n",
    "import librosa\n",
    "import librosa.display\n",
    "import matplotlib.pyplot as plt\n",
    "import numpy as np\n",
    "import pandas as pd\n",
    "import plotly.graph_objs as go\n",
    "import plotly.offline as py\n",
    "import plotly.tools as tls\n",
    "import seaborn as sns\n",
    "import scipy.io.wavfile\n",
    "import tensorflow as tf\n",
    "py.init_notebook_mode(connected=True)\n",
    "\n",
    "\n",
    "## Keras\n",
    "from keras import regularizers\n",
    "from keras.callbacks import ModelCheckpoint, LearningRateScheduler, EarlyStopping\n",
    "from keras.callbacks import  History, ReduceLROnPlateau, CSVLogger\n",
    "from keras.models import Model, Sequential\n",
    "from keras.layers import Dense, Embedding, LSTM\n",
    "from keras.layers import Input, Flatten, Dropout, Activation, BatchNormalization\n",
    "from keras.layers import Conv1D, MaxPooling1D, AveragePooling1D\n",
    "from keras.preprocessing import sequence\n",
    "from keras.preprocessing.sequence import pad_sequences\n",
    "from keras.preprocessing.text import Tokenizer\n",
    "from keras.utils import np_utils\n",
    "from keras.utils import to_categorical\n",
    "\n",
    "\n",
    "## Sklearn\n",
    "from sklearn.metrics import confusion_matrix\n",
    "from sklearn.preprocessing import LabelEncoder\n",
    "\n",
    "\n",
    "## Rest\n",
    "from scipy.fftpack import fft\n",
    "from scipy import signal\n",
    "from scipy.io import wavfile\n",
    "from tqdm import tqdm\n",
    "\n",
    "input_duration=3\n",
    "# % pylab inline"
   ]
  },
  {
   "cell_type": "code",
   "execution_count": 2,
   "metadata": {},
   "outputs": [],
   "source": [
    "from scipy.fftpack import dct\n",
    "from scipy.stats import zscore\n",
    "from math import sqrt"
   ]
  },
  {
   "cell_type": "code",
   "execution_count": 3,
   "metadata": {},
   "outputs": [],
   "source": [
    "# Data Directory\n",
    "# Please edit according to your directory change.\n",
    "dir_list = os.listdir('speech_files/')\n",
    "dir_list.sort()\n",
    "dir_list.remove('.DS_Store')\n",
    "#print (dir_list)"
   ]
  },
  {
   "cell_type": "code",
   "execution_count": 4,
   "metadata": {},
   "outputs": [
    {
     "data": {
      "text/plain": [
       "151"
      ]
     },
     "execution_count": 4,
     "metadata": {},
     "output_type": "execute_result"
    }
   ],
   "source": [
    "len(dir_list)"
   ]
  },
  {
   "cell_type": "code",
   "execution_count": 5,
   "metadata": {},
   "outputs": [
    {
     "name": "stdout",
     "output_type": "stream",
     "text": [
      "151\n"
     ]
    }
   ],
   "source": [
    "emo_list = os.listdir('labels/')\n",
    "emo_list.sort()\n",
    "emo_list.remove('.ipynb_checkpoints')\n",
    "print(len(emo_list))"
   ]
  },
  {
   "cell_type": "code",
   "execution_count": 6,
   "metadata": {},
   "outputs": [],
   "source": [
    "emotions = ['neu','ang','fru','hap','sur','exc','sad','fea','dis','xxx','oth']\n",
    "emo_df = pd.DataFrame(columns=['time', 'actors', 'emotions', 'v-a-d'])\n",
    "count = 0\n",
    "for f in emo_list:\n",
    "    df = pd.read_table('labels/'+f, names = ['time','actors','emotions','v-a-d']) #read label files \n",
    "    emo_df = emo_df.append(df.loc[df['emotions'].isin(emotions)]) #keep only those rwos that have averaged labels\n",
    "emo_df = emo_df.reset_index(drop=True)"
   ]
  },
  {
   "cell_type": "code",
   "execution_count": 7,
   "metadata": {},
   "outputs": [],
   "source": [
    "annotations = pd.DataFrame(columns=['time', 'actors', 'emotions', 'v-a-d']) #new dataframe to store all annotations\n",
    "\n",
    "\n",
    "for f in emo_list:\n",
    "    df = pd.read_table('labels/'+f, names = ['time','actors','emotions','v-a-d'])\n",
    "    for i in range(len(df)):\n",
    "        if(df.at[i,'time'][0]=='A'): #to keep only annotations starting with A - attribute evaluators\n",
    "            annotations = annotations.append(df.loc[i])\n"
   ]
  },
  {
   "cell_type": "code",
   "execution_count": 8,
   "metadata": {},
   "outputs": [],
   "source": [
    "annotations = annotations.reset_index()"
   ]
  },
  {
   "cell_type": "code",
   "execution_count": 7,
   "metadata": {},
   "outputs": [
    {
     "data": {
      "text/html": [
       "<div>\n",
       "<style scoped>\n",
       "    .dataframe tbody tr th:only-of-type {\n",
       "        vertical-align: middle;\n",
       "    }\n",
       "\n",
       "    .dataframe tbody tr th {\n",
       "        vertical-align: top;\n",
       "    }\n",
       "\n",
       "    .dataframe thead th {\n",
       "        text-align: right;\n",
       "    }\n",
       "</style>\n",
       "<table border=\"1\" class=\"dataframe\">\n",
       "  <thead>\n",
       "    <tr style=\"text-align: right;\">\n",
       "      <th></th>\n",
       "      <th>time</th>\n",
       "      <th>actors</th>\n",
       "      <th>emotions</th>\n",
       "      <th>v-a-d</th>\n",
       "    </tr>\n",
       "  </thead>\n",
       "  <tbody>\n",
       "    <tr>\n",
       "      <td>0</td>\n",
       "      <td>[6.2901 - 8.2357]</td>\n",
       "      <td>Ses01F_impro01_F000</td>\n",
       "      <td>neu</td>\n",
       "      <td>[2.5000, 2.5000, 2.5000]</td>\n",
       "    </tr>\n",
       "    <tr>\n",
       "      <td>1</td>\n",
       "      <td>[10.0100 - 11.3925]</td>\n",
       "      <td>Ses01F_impro01_F001</td>\n",
       "      <td>neu</td>\n",
       "      <td>[2.5000, 2.5000, 2.5000]</td>\n",
       "    </tr>\n",
       "    <tr>\n",
       "      <td>2</td>\n",
       "      <td>[14.8872 - 18.0175]</td>\n",
       "      <td>Ses01F_impro01_F002</td>\n",
       "      <td>neu</td>\n",
       "      <td>[2.5000, 2.5000, 2.5000]</td>\n",
       "    </tr>\n",
       "    <tr>\n",
       "      <td>3</td>\n",
       "      <td>[19.2900 - 20.7875]</td>\n",
       "      <td>Ses01F_impro01_F003</td>\n",
       "      <td>xxx</td>\n",
       "      <td>[2.5000, 3.0000, 3.0000]</td>\n",
       "    </tr>\n",
       "    <tr>\n",
       "      <td>4</td>\n",
       "      <td>[21.3257 - 24.7400]</td>\n",
       "      <td>Ses01F_impro01_F004</td>\n",
       "      <td>xxx</td>\n",
       "      <td>[2.5000, 3.0000, 2.5000]</td>\n",
       "    </tr>\n",
       "    <tr>\n",
       "      <td>...</td>\n",
       "      <td>...</td>\n",
       "      <td>...</td>\n",
       "      <td>...</td>\n",
       "      <td>...</td>\n",
       "    </tr>\n",
       "    <tr>\n",
       "      <td>10034</td>\n",
       "      <td>[236.5700 - 244.8300]</td>\n",
       "      <td>Ses05M_script03_2_M041</td>\n",
       "      <td>ang</td>\n",
       "      <td>[1.0000, 4.5000, 5.0000]</td>\n",
       "    </tr>\n",
       "    <tr>\n",
       "      <td>10035</td>\n",
       "      <td>[244.8400 - 246.5800]</td>\n",
       "      <td>Ses05M_script03_2_M042</td>\n",
       "      <td>ang</td>\n",
       "      <td>[1.0000, 4.5000, 4.5000]</td>\n",
       "    </tr>\n",
       "    <tr>\n",
       "      <td>10036</td>\n",
       "      <td>[246.5900 - 248.8300]</td>\n",
       "      <td>Ses05M_script03_2_M043</td>\n",
       "      <td>ang</td>\n",
       "      <td>[1.5000, 4.0000, 4.5000]</td>\n",
       "    </tr>\n",
       "    <tr>\n",
       "      <td>10037</td>\n",
       "      <td>[255.8600 - 260.3300]</td>\n",
       "      <td>Ses05M_script03_2_M044</td>\n",
       "      <td>ang</td>\n",
       "      <td>[1.0000, 5.0000, 5.0000]</td>\n",
       "    </tr>\n",
       "    <tr>\n",
       "      <td>10038</td>\n",
       "      <td>[260.3400 - 266.3500]</td>\n",
       "      <td>Ses05M_script03_2_M045</td>\n",
       "      <td>ang</td>\n",
       "      <td>[1.0000, 5.0000, 5.0000]</td>\n",
       "    </tr>\n",
       "  </tbody>\n",
       "</table>\n",
       "<p>10039 rows × 4 columns</p>\n",
       "</div>"
      ],
      "text/plain": [
       "                        time                  actors emotions  \\\n",
       "0          [6.2901 - 8.2357]     Ses01F_impro01_F000      neu   \n",
       "1        [10.0100 - 11.3925]     Ses01F_impro01_F001      neu   \n",
       "2        [14.8872 - 18.0175]     Ses01F_impro01_F002      neu   \n",
       "3        [19.2900 - 20.7875]     Ses01F_impro01_F003      xxx   \n",
       "4        [21.3257 - 24.7400]     Ses01F_impro01_F004      xxx   \n",
       "...                      ...                     ...      ...   \n",
       "10034  [236.5700 - 244.8300]  Ses05M_script03_2_M041      ang   \n",
       "10035  [244.8400 - 246.5800]  Ses05M_script03_2_M042      ang   \n",
       "10036  [246.5900 - 248.8300]  Ses05M_script03_2_M043      ang   \n",
       "10037  [255.8600 - 260.3300]  Ses05M_script03_2_M044      ang   \n",
       "10038  [260.3400 - 266.3500]  Ses05M_script03_2_M045      ang   \n",
       "\n",
       "                          v-a-d  \n",
       "0      [2.5000, 2.5000, 2.5000]  \n",
       "1      [2.5000, 2.5000, 2.5000]  \n",
       "2      [2.5000, 2.5000, 2.5000]  \n",
       "3      [2.5000, 3.0000, 3.0000]  \n",
       "4      [2.5000, 3.0000, 2.5000]  \n",
       "...                         ...  \n",
       "10034  [1.0000, 4.5000, 5.0000]  \n",
       "10035  [1.0000, 4.5000, 4.5000]  \n",
       "10036  [1.5000, 4.0000, 4.5000]  \n",
       "10037  [1.0000, 5.0000, 5.0000]  \n",
       "10038  [1.0000, 5.0000, 5.0000]  \n",
       "\n",
       "[10039 rows x 4 columns]"
      ]
     },
     "execution_count": 7,
     "metadata": {},
     "output_type": "execute_result"
    }
   ],
   "source": [
    "emo_df"
   ]
  },
  {
   "cell_type": "code",
   "execution_count": 37,
   "metadata": {},
   "outputs": [
    {
     "data": {
      "text/plain": [
       "'2'"
      ]
     },
     "execution_count": 37,
     "metadata": {},
     "output_type": "execute_result"
    }
   ],
   "source": [
    "annotations.at[0,'actors'][11]"
   ]
  },
  {
   "cell_type": "code",
   "execution_count": 9,
   "metadata": {},
   "outputs": [],
   "source": [
    "emo1 = pd.DataFrame(columns=['valence1','activation1']) #to store average of all annotations\n",
    "vals = []\n",
    "acts = []\n",
    "j=0\n",
    "for i in range(len(annotations)):\n",
    "    ind = annotations.at[i,'index']\n",
    "    if (i==0 or ind == (ind_pre+1)):\n",
    "        vals.append(int(annotations.at[i,'actors'][4])) #valence\n",
    "        acts.append(int(annotations.at[i,'actors'][11])) #activation\n",
    "        ind_pre = ind\n",
    "    else: \n",
    "        val = sum(vals)/len(vals)\n",
    "        act = sum(acts)/len(acts)\n",
    "        emo1.at[j,'valence1'] = val\n",
    "        emo1.at[j,'activation1'] = act\n",
    "        j=j+1\n",
    "        vals=[]\n",
    "        acts=[]\n",
    "        vals.append(int(annotations.at[i,'actors'][4]))\n",
    "        acts.append(int(annotations.at[i,'actors'][11]))\n",
    "        ind_pre = ind\n",
    "    if(i==(len(annotations)-1)):\n",
    "        val = sum(vals)/len(vals)\n",
    "        act = sum(acts)/len(acts)\n",
    "        emo1.at[j,'valence1'] = val\n",
    "        emo1.at[j,'activation1'] = act"
   ]
  },
  {
   "cell_type": "code",
   "execution_count": 21,
   "metadata": {},
   "outputs": [
    {
     "data": {
      "text/html": [
       "<div>\n",
       "<style scoped>\n",
       "    .dataframe tbody tr th:only-of-type {\n",
       "        vertical-align: middle;\n",
       "    }\n",
       "\n",
       "    .dataframe tbody tr th {\n",
       "        vertical-align: top;\n",
       "    }\n",
       "\n",
       "    .dataframe thead th {\n",
       "        text-align: right;\n",
       "    }\n",
       "</style>\n",
       "<table border=\"1\" class=\"dataframe\">\n",
       "  <thead>\n",
       "    <tr style=\"text-align: right;\">\n",
       "      <th></th>\n",
       "      <th>valence1</th>\n",
       "      <th>activation1</th>\n",
       "    </tr>\n",
       "  </thead>\n",
       "  <tbody>\n",
       "    <tr>\n",
       "      <td>0</td>\n",
       "      <td>2.66667</td>\n",
       "      <td>2.33333</td>\n",
       "    </tr>\n",
       "    <tr>\n",
       "      <td>1</td>\n",
       "      <td>2.33333</td>\n",
       "      <td>2.66667</td>\n",
       "    </tr>\n",
       "    <tr>\n",
       "      <td>2</td>\n",
       "      <td>2.66667</td>\n",
       "      <td>2.66667</td>\n",
       "    </tr>\n",
       "    <tr>\n",
       "      <td>3</td>\n",
       "      <td>2.33333</td>\n",
       "      <td>3</td>\n",
       "    </tr>\n",
       "    <tr>\n",
       "      <td>4</td>\n",
       "      <td>2.66667</td>\n",
       "      <td>3.33333</td>\n",
       "    </tr>\n",
       "    <tr>\n",
       "      <td>...</td>\n",
       "      <td>...</td>\n",
       "      <td>...</td>\n",
       "    </tr>\n",
       "    <tr>\n",
       "      <td>10034</td>\n",
       "      <td>1</td>\n",
       "      <td>4.5</td>\n",
       "    </tr>\n",
       "    <tr>\n",
       "      <td>10035</td>\n",
       "      <td>1</td>\n",
       "      <td>4.5</td>\n",
       "    </tr>\n",
       "    <tr>\n",
       "      <td>10036</td>\n",
       "      <td>1.5</td>\n",
       "      <td>4</td>\n",
       "    </tr>\n",
       "    <tr>\n",
       "      <td>10037</td>\n",
       "      <td>1</td>\n",
       "      <td>5</td>\n",
       "    </tr>\n",
       "    <tr>\n",
       "      <td>10038</td>\n",
       "      <td>1</td>\n",
       "      <td>5</td>\n",
       "    </tr>\n",
       "  </tbody>\n",
       "</table>\n",
       "<p>10039 rows × 2 columns</p>\n",
       "</div>"
      ],
      "text/plain": [
       "      valence1 activation1\n",
       "0      2.66667     2.33333\n",
       "1      2.33333     2.66667\n",
       "2      2.66667     2.66667\n",
       "3      2.33333           3\n",
       "4      2.66667     3.33333\n",
       "...        ...         ...\n",
       "10034        1         4.5\n",
       "10035        1         4.5\n",
       "10036      1.5           4\n",
       "10037        1           5\n",
       "10038        1           5\n",
       "\n",
       "[10039 rows x 2 columns]"
      ]
     },
     "execution_count": 21,
     "metadata": {},
     "output_type": "execute_result"
    }
   ],
   "source": [
    "emo1"
   ]
  },
  {
   "cell_type": "code",
   "execution_count": 38,
   "metadata": {},
   "outputs": [
    {
     "data": {
      "text/plain": [
       "2.5"
      ]
     },
     "execution_count": 38,
     "metadata": {},
     "output_type": "execute_result"
    }
   ],
   "source": [
    "float(emo_df.at[0,'v-a-d'][9:15])"
   ]
  },
  {
   "cell_type": "code",
   "execution_count": 12,
   "metadata": {},
   "outputs": [
    {
     "data": {
      "text/html": [
       "<div>\n",
       "<style scoped>\n",
       "    .dataframe tbody tr th:only-of-type {\n",
       "        vertical-align: middle;\n",
       "    }\n",
       "\n",
       "    .dataframe tbody tr th {\n",
       "        vertical-align: top;\n",
       "    }\n",
       "\n",
       "    .dataframe thead th {\n",
       "        text-align: right;\n",
       "    }\n",
       "</style>\n",
       "<table border=\"1\" class=\"dataframe\">\n",
       "  <thead>\n",
       "    <tr style=\"text-align: right;\">\n",
       "      <th></th>\n",
       "      <th>time</th>\n",
       "      <th>actors</th>\n",
       "      <th>v-a-d</th>\n",
       "    </tr>\n",
       "    <tr>\n",
       "      <th>emotions</th>\n",
       "      <th></th>\n",
       "      <th></th>\n",
       "      <th></th>\n",
       "    </tr>\n",
       "  </thead>\n",
       "  <tbody>\n",
       "    <tr>\n",
       "      <td>ang</td>\n",
       "      <td>1103</td>\n",
       "      <td>1103</td>\n",
       "      <td>1103</td>\n",
       "    </tr>\n",
       "    <tr>\n",
       "      <td>dis</td>\n",
       "      <td>2</td>\n",
       "      <td>2</td>\n",
       "      <td>2</td>\n",
       "    </tr>\n",
       "    <tr>\n",
       "      <td>exc</td>\n",
       "      <td>1041</td>\n",
       "      <td>1041</td>\n",
       "      <td>1041</td>\n",
       "    </tr>\n",
       "    <tr>\n",
       "      <td>fea</td>\n",
       "      <td>40</td>\n",
       "      <td>40</td>\n",
       "      <td>40</td>\n",
       "    </tr>\n",
       "    <tr>\n",
       "      <td>fru</td>\n",
       "      <td>1849</td>\n",
       "      <td>1849</td>\n",
       "      <td>1849</td>\n",
       "    </tr>\n",
       "    <tr>\n",
       "      <td>hap</td>\n",
       "      <td>595</td>\n",
       "      <td>595</td>\n",
       "      <td>595</td>\n",
       "    </tr>\n",
       "    <tr>\n",
       "      <td>neu</td>\n",
       "      <td>1708</td>\n",
       "      <td>1708</td>\n",
       "      <td>1708</td>\n",
       "    </tr>\n",
       "    <tr>\n",
       "      <td>oth</td>\n",
       "      <td>3</td>\n",
       "      <td>3</td>\n",
       "      <td>3</td>\n",
       "    </tr>\n",
       "    <tr>\n",
       "      <td>sad</td>\n",
       "      <td>1084</td>\n",
       "      <td>1084</td>\n",
       "      <td>1084</td>\n",
       "    </tr>\n",
       "    <tr>\n",
       "      <td>sur</td>\n",
       "      <td>107</td>\n",
       "      <td>107</td>\n",
       "      <td>107</td>\n",
       "    </tr>\n",
       "    <tr>\n",
       "      <td>xxx</td>\n",
       "      <td>2507</td>\n",
       "      <td>2507</td>\n",
       "      <td>2507</td>\n",
       "    </tr>\n",
       "  </tbody>\n",
       "</table>\n",
       "</div>"
      ],
      "text/plain": [
       "          time  actors  v-a-d\n",
       "emotions                     \n",
       "ang       1103    1103   1103\n",
       "dis          2       2      2\n",
       "exc       1041    1041   1041\n",
       "fea         40      40     40\n",
       "fru       1849    1849   1849\n",
       "hap        595     595    595\n",
       "neu       1708    1708   1708\n",
       "oth          3       3      3\n",
       "sad       1084    1084   1084\n",
       "sur        107     107    107\n",
       "xxx       2507    2507   2507"
      ]
     },
     "execution_count": 12,
     "metadata": {},
     "output_type": "execute_result"
    }
   ],
   "source": [
    "emo_df.groupby('emotions').count()"
   ]
  },
  {
   "cell_type": "code",
   "execution_count": 10,
   "metadata": {},
   "outputs": [],
   "source": [
    "data_df = pd.DataFrame(columns=['path', 'actor', 'gender', 'emotion','valence','activation','logfb','mfb'])\n",
    "count = 0\n",
    "actors=[]\n",
    "for i in dir_list:\n",
    "    file_list = os.listdir('speech_files/' + i) #list of directories within speech files\n",
    "    file_list.sort()\n",
    "    \n",
    "    for f in file_list:\n",
    "        if (f[-1]!='k'): #remove .pk files\n",
    "            if (f!='.DS_Store'):\n",
    "                path = 'speech_files/' + i + '/' + f #file within one session eg: f = Ses01F_impro01_F000.wav \n",
    "                actor = f[-8]+f[3:5] #(F000.wav+Ses01)\n",
    "                gender = f[-8] \n",
    "                if (f[:-4]==emo_df.at[count,'actors']): #check if we are in correct row of emo_df \n",
    "                    emotion = emo_df.at[count,'emotions']\n",
    "                    valence = float(emo_df.at[count,'v-a-d'][1:7])\n",
    "                    if (valence>=1 and valence<=2.75):\n",
    "                        valence = 'low'\n",
    "                    elif (valence<=3.25):\n",
    "                        valence='mid'\n",
    "                    else:\n",
    "                        valence='high'\n",
    "                    activation=float(emo_df.at[count,'v-a-d'][9:15])\n",
    "                    if (activation>=1 and activation<=2.75):\n",
    "                        activation = 'low'\n",
    "                    elif (activation<=3.25):\n",
    "                        activation='mid'\n",
    "                    else:\n",
    "                        activation='high'\n",
    "                    #valence1 = emo1.at[count,'valence1']\n",
    "                    #if (valence1>=1 and valence1<=2.75):\n",
    "                     #   valence1 = 'low'\n",
    "                    #elif (valence1<=3.25):\n",
    "                     #   valence1='mid'\n",
    "                    #else:\n",
    "                     #   valence1='high'\n",
    "                    #activation1= emo1.at[count,'activation1']\n",
    "                    #if (activation1>=1 and activation1<=2.75):\n",
    "                     #   activation1 = 'low'\n",
    "                    #elif (activation1<=3.25):\n",
    "                     #   activation1='mid'\n",
    "                    #else:\n",
    "                     #   activation1='high'    \n",
    "                actors.append(f)\n",
    "                data_df.loc[count] = [path, actor, gender, emotion, valence, activation,0,0]\n",
    "                count=count+1\n"
   ]
  },
  {
   "cell_type": "code",
   "execution_count": 11,
   "metadata": {},
   "outputs": [],
   "source": [
    "grouped = data_df.groupby(['emotion', 'gender'])"
   ]
  },
  {
   "cell_type": "code",
   "execution_count": 16,
   "metadata": {},
   "outputs": [
    {
     "data": {
      "text/plain": [
       "10"
      ]
     },
     "execution_count": 16,
     "metadata": {},
     "output_type": "execute_result"
    }
   ],
   "source": [
    "#number of actors\n",
    "len(np.unique(data_df.actor)) "
   ]
  },
  {
   "cell_type": "code",
   "execution_count": null,
   "metadata": {},
   "outputs": [],
   "source": [
    "filename = ''"
   ]
  },
  {
   "cell_type": "code",
   "execution_count": 17,
   "metadata": {},
   "outputs": [
    {
     "data": {
      "text/plain": [
       "(16000, array([-165, -163, -125, ...,  -87, -104, -137], dtype=int16))"
      ]
     },
     "execution_count": 17,
     "metadata": {},
     "output_type": "execute_result"
    }
   ],
   "source": [
    "scipy_sampling_rate, scipy_load = wavfile.read(data_df.path[0])\n",
    "scipy_sampling_rate, scipy_load"
   ]
  },
  {
   "cell_type": "code",
   "execution_count": 25,
   "metadata": {},
   "outputs": [
    {
     "data": {
      "text/plain": [
       "(31129,)"
      ]
     },
     "execution_count": 25,
     "metadata": {},
     "output_type": "execute_result"
    }
   ],
   "source": [
    "scipy_load.shape"
   ]
  },
  {
   "cell_type": "code",
   "execution_count": null,
   "metadata": {},
   "outputs": [],
   "source": [
    "scipy_load.shape[0]/16000\n",
    "time = np.arange(0, float(scipy_load.shape[0]), 1) / scipy_sampling_rate"
   ]
  },
  {
   "cell_type": "code",
   "execution_count": 28,
   "metadata": {},
   "outputs": [
    {
     "data": {
      "image/png": "[encoded data removed]",
      "text/plain": [
       "<Figure size 864x288 with 1 Axes>"
      ]
     },
     "metadata": {
      "needs_background": "light"
     },
     "output_type": "display_data"
    }
   ],
   "source": [
    "plt.figure(figsize=(12, 4))\n",
    "plt.plot(time, scipy_load,'g')# linewidth=0.01, alpha=0.7)\n",
    "plt.xlabel('Time (s)')\n",
    "plt.ylabel('Amplitude')\n",
    "plt.grid(True)"
   ]
  },
  {
   "cell_type": "code",
   "execution_count": 36,
   "metadata": {},
   "outputs": [],
   "source": [
    "time = np.linspace(0.75,0.775,400)"
   ]
  },
  {
   "cell_type": "code",
   "execution_count": 37,
   "metadata": {},
   "outputs": [
    {
     "data": {
      "image/png": "[encoded data removed]",
      "text/plain": [
       "<Figure size 864x288 with 1 Axes>"
      ]
     },
     "metadata": {
      "needs_background": "light"
     },
     "output_type": "display_data"
    }
   ],
   "source": [
    "plt.figure(figsize=(12, 4))\n",
    "plt.plot(time, scipy_load[12000:12400],'g')# linewidth=0.01, alpha=0.7)\n",
    "plt.xlabel('Time (s)')\n",
    "plt.ylabel('Amplitude')\n",
    "plt.grid(True)"
   ]
  },
  {
   "cell_type": "code",
   "execution_count": 43,
   "metadata": {},
   "outputs": [
    {
     "data": {
      "image/png": "[encoded data removed]",
      "text/plain": [
       "<Figure size 432x288 with 1 Axes>"
      ]
     },
     "metadata": {
      "needs_background": "light"
     },
     "output_type": "display_data"
    }
   ],
   "source": [
    "f, Pxx_den = signal.periodogram(scipy_load[12000:12400], scipy_sampling_rate)\n",
    "plt.semilogy(f, Pxx_den)\n",
    "plt.ylim([1e0, 1e5])\n",
    "plt.xlabel('frequency [Hz]')\n",
    "plt.ylabel('PSD [S**2/Hz]')\n",
    "plt.grid(True)\n",
    "plt.show()"
   ]
  },
  {
   "cell_type": "code",
   "execution_count": 47,
   "metadata": {},
   "outputs": [
    {
     "data": {
      "image/png": "[encoded data removed]",
      "text/plain": [
       "<Figure size 432x288 with 1 Axes>"
      ]
     },
     "metadata": {
      "needs_background": "light"
     },
     "output_type": "display_data"
    }
   ],
   "source": [
    "x = [-5,-4,-3,-2,-1,0,1,2,3,4,5,6,7]\n",
    "y = [0,0,0,0,0,0,1,2,3,4,5,6,7]\n",
    "plt.xlabel('input')\n",
    "plt.ylabel('output')\n",
    "plt.axhline(y=0, color='k')\n",
    "plt.axvline(x=0, color='k')\n",
    "plt.plot(x,y,'b')\n",
    "plt.grid(True)\n",
    "plt.show()"
   ]
  },
  {
   "cell_type": "code",
   "execution_count": 90,
   "metadata": {},
   "outputs": [
    {
     "data": {
      "text/plain": [
       "[<matplotlib.lines.Line2D at 0x1fb1ca8d0>]"
      ]
     },
     "execution_count": 90,
     "metadata": {},
     "output_type": "execute_result"
    },
    {
     "data": {
      "image/png": "[encoded data removed]",
      "text/plain": [
       "<Figure size 864x288 with 1 Axes>"
      ]
     },
     "metadata": {
      "needs_background": "light"
     },
     "output_type": "display_data"
    }
   ],
   "source": [
    "plt.figure(figsize=(12, 4))\n",
    "plt.plot(samples)"
   ]
  },
  {
   "cell_type": "code",
   "execution_count": 12,
   "metadata": {},
   "outputs": [],
   "source": [
    "#dataframe to store MFB \n",
    "data = pd.DataFrame(columns=['MFB_var'])"
   ]
  },
  {
   "cell_type": "code",
   "execution_count": 264,
   "metadata": {},
   "outputs": [],
   "source": [
    "''''pre_emphasis = 0.97\n",
    "frame_size = 0.025\n",
    "frame_stride = 0.01\n",
    "nfilt = 40\n",
    "NFFT = 512\n",
    "i=0\n",
    "while i<1:\n",
    "    sample_rate, signal = scipy.io.wavfile.read(data_df.path[i])  # File assumed to be in the same directory\n",
    "    #print(sample_rate)\n",
    "    #signal = signal[0:int(4.5 * sample_rate)]  # Keep the first 3.5 seconds\n",
    "    length = len(signal)\n",
    "    #signal = np.append(signal,np.zeros(int(4.5*sample_rate)-length))\n",
    "    emphasized_signal = np.append(signal[0], signal[1:] - pre_emphasis * signal[:-1])\n",
    "    frame_length, frame_step = frame_size * sample_rate, frame_stride * sample_rate  # Convert from seconds to samples\n",
    "    signal_length = len(emphasized_signal)\n",
    "    #print(signal_length)\n",
    "    frame_length = int(round(frame_length))\n",
    "    frame_step = int(round(frame_step))\n",
    "    num_frames = int(np.ceil(float(np.abs(signal_length - frame_length)) / frame_step))  # Make sure that we have at least 1 frame\n",
    "\n",
    "    #pad_signal_length = num_frames * frame_step + frame_length\n",
    "    #z = np.zeros((pad_signal_length - signal_length))\n",
    "    #print(len(z))\n",
    "    #pad_signal = np.append(emphasized_signal, z) # Pad Signal to make sure that all frames have equal number of samples without truncating any samples from the original signal\n",
    "    #print(len(pad_signal))\n",
    "    indices = np.tile(np.arange(0, frame_length), (num_frames, 1)) + np.tile(np.arange(0, num_frames * frame_step, frame_step), (frame_length, 1)).T\n",
    "    frames = emphasized_signal[indices.astype(np.int32, copy=False)]\n",
    "    #frames *= np.hamming(frame_length)\n",
    "    frames *= scipy.signal.windows.hamming(frame_length)\n",
    "    mag_frames = np.absolute(np.fft.rfft(frames, NFFT))  # Magnitude of the FFT\n",
    "    pow_frames = ((1.0 / NFFT) * ((mag_frames) ** 2))  # Power Spectrum\n",
    "    low_freq_mel = (2595 * np.log10(1 + (0 / 2) / 700))\n",
    "    high_freq_mel = (2595 * np.log10(1 + (sample_rate / 2) / 700))  # Convert Hz to Mel\n",
    "    mel_points = np.linspace(low_freq_mel, high_freq_mel, nfilt + 2)  # Equally spaced in Mel scale\n",
    "    hz_points = (700 * (10**(mel_points / 2595) - 1))  # Convert Mel to Hz\n",
    "    bin = np.floor((NFFT + 1) * hz_points / sample_rate)\n",
    "\n",
    "    fbank = np.zeros((nfilt, int(np.floor(NFFT / 2 + 1))))\n",
    "    for m in range(1, nfilt + 1):\n",
    "        f_m_minus = int(bin[m - 1])   # left\n",
    "        f_m = int(bin[m])             # center\n",
    "        f_m_plus = int(bin[m + 1])    # right\n",
    "\n",
    "        for k in range(f_m_minus, f_m):\n",
    "            fbank[m - 1, k] = (k - bin[m - 1]) / (bin[m] - bin[m - 1])\n",
    "        for k in range(f_m, f_m_plus):\n",
    "            fbank[m - 1, k] = (bin[m + 1] - k) / (bin[m + 1] - bin[m])\n",
    "    filter_banks = np.dot(pow_frames, fbank.T)\n",
    "    filter_banks = np.where(filter_banks == 0, np.finfo(float).eps, filter_banks)  # Numerical Stability\n",
    "    filter_banks = 20 * np.log10(filter_banks)  # dB\n",
    "    #filter_banks -= (np.mean(filter_banks, axis=0) + 1e-8)\n",
    "    #data.loc[i] = [filter_banks]'''\n",
    "    #i+=1"
   ]
  },
  {
   "cell_type": "code",
   "execution_count": null,
   "metadata": {},
   "outputs": [],
   "source": [
    "def preemphasis(signal,coeff):\n",
    "    return numpy.append(signal[0],signal[1:]-signal[:-1]*coeff)"
   ]
  },
  {
   "cell_type": "code",
   "execution_count": null,
   "metadata": {},
   "outputs": [],
   "source": [
    "sample_rate, signal = wavfile.read(data_df.path[0])\n",
    "import python_speech_features\n",
    "from python_speech_features import fbank\n",
    "from python_speech_features import logfbank\n",
    "\n",
    " #doubts - fmin, preemph or not?, log output?\n",
    "\n",
    "\n",
    "mfb = fbank(signal, samplerate=16000, winlen=0.025, winstep=0.01,\n",
    "      nfilt=40, nfft=512,lowfreq=0,highfreq=None,preemph=0.97) #doubts - fmin, preemph or not?, log output?\n"
   ]
  },
  {
   "cell_type": "code",
   "execution_count": null,
   "metadata": {},
   "outputs": [],
   "source": [
    "filter_banks=np.transpose(S)\n",
    "filter_banks = 20 * np.log10(filter_banks)\n",
    "#filter_banks -= (np.mean(filter_banks, axis=0) + 1e-8)\n",
    "\n",
    "filter_banks\n"
   ]
  },
  {
   "cell_type": "code",
   "execution_count": null,
   "metadata": {},
   "outputs": [],
   "source": [
    "#list of audio samples \n",
    "audio_samples = []\n",
    "srate = []\n",
    "for i in tqdm(range(len(data_df))):\n",
    "    sample_rate, samples = wavfile.read(data_df.path[i])\n",
    "    audio_samples.append(samples)\n",
    "    srate.append(sample_rate)"
   ]
  },
  {
   "cell_type": "code",
   "execution_count": 299,
   "metadata": {},
   "outputs": [
    {
     "data": {
      "text/plain": [
       "array([16000])"
      ]
     },
     "execution_count": 299,
     "metadata": {},
     "output_type": "execute_result"
    }
   ],
   "source": [
    "np.unique(srate)"
   ]
  },
  {
   "cell_type": "code",
   "execution_count": 300,
   "metadata": {},
   "outputs": [],
   "source": [
    "sample_lengths = []"
   ]
  },
  {
   "cell_type": "code",
   "execution_count": 301,
   "metadata": {},
   "outputs": [
    {
     "name": "stderr",
     "output_type": "stream",
     "text": [
      "100%|██████████| 10039/10039 [00:00<00:00, 41705.08it/s]\n"
     ]
    }
   ],
   "source": [
    "for i in tqdm(range(len(audio_samples))):\n",
    "    sample_lengths.append(len(audio_samples[i]))"
   ]
  },
  {
   "cell_type": "code",
   "execution_count": 225,
   "metadata": {},
   "outputs": [],
   "source": [
    "pad = int(round(np.percentile(sample_lengths,50)))"
   ]
  },
  {
   "cell_type": "code",
   "execution_count": 226,
   "metadata": {},
   "outputs": [
    {
     "data": {
      "text/plain": [
       "56319"
      ]
     },
     "execution_count": 226,
     "metadata": {},
     "output_type": "execute_result"
    }
   ],
   "source": [
    "pad"
   ]
  },
  {
   "cell_type": "code",
   "execution_count": 302,
   "metadata": {},
   "outputs": [],
   "source": [
    "pad = int(np.nanmean(sample_lengths))"
   ]
  },
  {
   "cell_type": "code",
   "execution_count": 228,
   "metadata": {},
   "outputs": [
    {
     "data": {
      "text/plain": [
       "49032.372366776"
      ]
     },
     "execution_count": 228,
     "metadata": {},
     "output_type": "execute_result"
    }
   ],
   "source": [
    "np.std(sample_lengths)"
   ]
  },
  {
   "cell_type": "code",
   "execution_count": 25,
   "metadata": {},
   "outputs": [
    {
     "data": {
      "text/plain": [
       "numpy.int16"
      ]
     },
     "execution_count": 25,
     "metadata": {},
     "output_type": "execute_result"
    }
   ],
   "source": [
    "type(audio_samples[0][0])"
   ]
  },
  {
   "cell_type": "code",
   "execution_count": 303,
   "metadata": {},
   "outputs": [
    {
     "name": "stderr",
     "output_type": "stream",
     "text": [
      "100%|██████████| 10039/10039 [01:59<00:00, 84.24it/s]\n"
     ]
    }
   ],
   "source": [
    "#librosa mfb\n",
    "''''sr = sample_rate #16000 \n",
    "n_fft=512\n",
    "win_length = 400 #25ms\n",
    "hop_length = 160 #10ms \n",
    "n_mels = 40 \n",
    "for i in tqdm(range(len(data_df))):\n",
    "    sample = audio_samples[i]\n",
    "    sample=preemphasis(sample,0.97)\n",
    "    #if(len(sample)>=pad):\n",
    "        #sample_e = sample[0:pad] #truncating to mena length\n",
    "    #else:\n",
    "        #z = np.zeros((int(pad) - len(sample)))\n",
    "        #sample_e = np.append(z,sample) #padding to mean length\n",
    "        #print(len(sample_e))\n",
    "    \n",
    "    S_var = librosa.feature.melspectrogram(sample, sr=sample_rate, n_fft=n_fft, hop_length=hop_length, \n",
    "                                           n_mels=n_mels,window =scipy.signal.windows.hamming,\n",
    "                                           win_length=win_length, fmin=300) #variable length\n",
    "    #S_eq = librosa.feature.melspectrogram(sample_e, sr=sample_rate, n_fft=n_fft, hop_length=hop_length, \n",
    "                                          #n_mels=n_mels,window =scipy.signal.windows.hamming,\n",
    "                                          #win_length=win_length, fmin=300) #equal length\n",
    "    \n",
    "    Sv_trans = np.transpose(S_var)\n",
    "    Sv_fb = 20 * np.log10(Sv_trans)\n",
    "\n",
    "\n",
    "    #Se_trans = np.transpose(S_eq)\n",
    "    #Se_trans = np.where(Se_trans == 0, np.finfo(float).eps, Se_trans)  # Numerical Stability\n",
    "    #Se_fb = 20 * np.log10(Se_trans)\n",
    "\n",
    "    #S_trans = np.where(S_trans==0, np.NaN, S_trans)\n",
    "    data['MFB_var'].loc[i] = Sv_fb\n",
    "    #data['MFB_eq'].loc[i] = Se_fb"
   ]
  },
  {
   "cell_type": "code",
   "execution_count": 13,
   "metadata": {},
   "outputs": [
    {
     "name": "stderr",
     "output_type": "stream",
     "text": [
      "100%|██████████| 10039/10039 [03:12<00:00, 52.20it/s]\n"
     ]
    }
   ],
   "source": [
    "'''#MFB energies through python_speech_features\n",
    "import python_speech_features\n",
    "from python_speech_features import fbank\n",
    "from python_speech_features import logfbank\n",
    "for i in tqdm(range(len(data_df))):\n",
    "    sample_rate, signal = wavfile.read(data_df.path[i])\n",
    "    fbanks = logfbank(signal, samplerate=16000, winlen=0.025, winstep=0.01,\n",
    "                  nfilt=40, nfft=512,lowfreq=0,highfreq=None,preemph=0.97)\n",
    "    data_df['logfb'].loc[i] = fbanks"
   ]
  },
  {
   "cell_type": "code",
   "execution_count": 10,
   "metadata": {},
   "outputs": [
    {
     "name": "stderr",
     "output_type": "stream",
     "text": [
      "100%|██████████| 10039/10039 [09:16<00:00, 18.04it/s]\n"
     ]
    }
   ],
   "source": [
    "#MFB energies through python_speech_features\n",
    "logfbs =[]\n",
    "mfbs = []\n",
    "sample_rate, signal = wavfile.read(data_df.path[0])\n",
    "n_fft = int(np.ceil(sample_rate * 0.025))\n",
    "import python_speech_features\n",
    "from python_speech_features import fbank\n",
    "from python_speech_features import logfbank\n",
    "for i in tqdm(range(len(data_df))):\n",
    "    sample_rate, signal = wavfile.read(data_df.path[i])\n",
    "    lfbanks = logfbank(signal, samplerate = sample_rate, winlen=0.025, winstep=0.01,\n",
    "                  nfilt=40, nfft = n_fft,lowfreq = 0,highfreq=None,preemph=0.97)\n",
    "    fbanks = fbank(signal, samplerate=sample_rate, winlen=0.025, winstep=0.01,\n",
    "                  nfilt=40, nfft=n_fft,lowfreq=0,highfreq=None,preemph=0.97)\n",
    "    fbanks = fbanks[0]\n",
    "    data_df['logfb'].loc[i] = lfbanks\n",
    "    data_df['mfb'].loc[i] = fbanks"
   ]
  },
  {
   "cell_type": "code",
   "execution_count": null,
   "metadata": {},
   "outputs": [],
   "source": [
    "data_df['MFB_var']\n",
    "#data_df['MFB_eq']=data['MFB_eq']"
   ]
  },
  {
   "cell_type": "code",
   "execution_count": 11,
   "metadata": {},
   "outputs": [],
   "source": [
    "data_df = data_df.sort_values('actor')"
   ]
  },
  {
   "cell_type": "code",
   "execution_count": 12,
   "metadata": {},
   "outputs": [],
   "source": [
    "data_df=data_df.reset_index(drop=True)"
   ]
  },
  {
   "cell_type": "code",
   "execution_count": 18,
   "metadata": {},
   "outputs": [],
   "source": [
    "actor_groupby = data_df.groupby(['actor'])"
   ]
  },
  {
   "cell_type": "code",
   "execution_count": 309,
   "metadata": {},
   "outputs": [
    {
     "data": {
      "text/html": [
       "<div>\n",
       "<style scoped>\n",
       "    .dataframe tbody tr th:only-of-type {\n",
       "        vertical-align: middle;\n",
       "    }\n",
       "\n",
       "    .dataframe tbody tr th {\n",
       "        vertical-align: top;\n",
       "    }\n",
       "\n",
       "    .dataframe thead th {\n",
       "        text-align: right;\n",
       "    }\n",
       "</style>\n",
       "<table border=\"1\" class=\"dataframe\">\n",
       "  <thead>\n",
       "    <tr style=\"text-align: right;\">\n",
       "      <th></th>\n",
       "      <th>path</th>\n",
       "      <th>gender</th>\n",
       "      <th>emotion</th>\n",
       "      <th>valence</th>\n",
       "      <th>activation</th>\n",
       "      <th>valence1</th>\n",
       "      <th>activation1</th>\n",
       "      <th>MFB_var</th>\n",
       "      <th>MFB_eq</th>\n",
       "    </tr>\n",
       "    <tr>\n",
       "      <th>actor</th>\n",
       "      <th></th>\n",
       "      <th></th>\n",
       "      <th></th>\n",
       "      <th></th>\n",
       "      <th></th>\n",
       "      <th></th>\n",
       "      <th></th>\n",
       "      <th></th>\n",
       "      <th></th>\n",
       "    </tr>\n",
       "  </thead>\n",
       "  <tbody>\n",
       "    <tr>\n",
       "      <td>F01</td>\n",
       "      <td>873</td>\n",
       "      <td>873</td>\n",
       "      <td>873</td>\n",
       "      <td>873</td>\n",
       "      <td>873</td>\n",
       "      <td>873</td>\n",
       "      <td>873</td>\n",
       "      <td>873</td>\n",
       "      <td>873</td>\n",
       "    </tr>\n",
       "    <tr>\n",
       "      <td>F02</td>\n",
       "      <td>859</td>\n",
       "      <td>859</td>\n",
       "      <td>859</td>\n",
       "      <td>859</td>\n",
       "      <td>859</td>\n",
       "      <td>859</td>\n",
       "      <td>859</td>\n",
       "      <td>859</td>\n",
       "      <td>859</td>\n",
       "    </tr>\n",
       "    <tr>\n",
       "      <td>F03</td>\n",
       "      <td>1048</td>\n",
       "      <td>1048</td>\n",
       "      <td>1048</td>\n",
       "      <td>1048</td>\n",
       "      <td>1048</td>\n",
       "      <td>1048</td>\n",
       "      <td>1048</td>\n",
       "      <td>1048</td>\n",
       "      <td>1048</td>\n",
       "    </tr>\n",
       "    <tr>\n",
       "      <td>F04</td>\n",
       "      <td>987</td>\n",
       "      <td>987</td>\n",
       "      <td>987</td>\n",
       "      <td>987</td>\n",
       "      <td>987</td>\n",
       "      <td>987</td>\n",
       "      <td>987</td>\n",
       "      <td>987</td>\n",
       "      <td>987</td>\n",
       "    </tr>\n",
       "    <tr>\n",
       "      <td>F05</td>\n",
       "      <td>1033</td>\n",
       "      <td>1033</td>\n",
       "      <td>1033</td>\n",
       "      <td>1033</td>\n",
       "      <td>1033</td>\n",
       "      <td>1033</td>\n",
       "      <td>1033</td>\n",
       "      <td>1033</td>\n",
       "      <td>1033</td>\n",
       "    </tr>\n",
       "    <tr>\n",
       "      <td>M01</td>\n",
       "      <td>946</td>\n",
       "      <td>946</td>\n",
       "      <td>946</td>\n",
       "      <td>946</td>\n",
       "      <td>946</td>\n",
       "      <td>946</td>\n",
       "      <td>946</td>\n",
       "      <td>946</td>\n",
       "      <td>946</td>\n",
       "    </tr>\n",
       "    <tr>\n",
       "      <td>M02</td>\n",
       "      <td>952</td>\n",
       "      <td>952</td>\n",
       "      <td>952</td>\n",
       "      <td>952</td>\n",
       "      <td>952</td>\n",
       "      <td>952</td>\n",
       "      <td>952</td>\n",
       "      <td>952</td>\n",
       "      <td>952</td>\n",
       "    </tr>\n",
       "    <tr>\n",
       "      <td>M03</td>\n",
       "      <td>1088</td>\n",
       "      <td>1088</td>\n",
       "      <td>1088</td>\n",
       "      <td>1088</td>\n",
       "      <td>1088</td>\n",
       "      <td>1088</td>\n",
       "      <td>1088</td>\n",
       "      <td>1088</td>\n",
       "      <td>1088</td>\n",
       "    </tr>\n",
       "    <tr>\n",
       "      <td>M04</td>\n",
       "      <td>1116</td>\n",
       "      <td>1116</td>\n",
       "      <td>1116</td>\n",
       "      <td>1116</td>\n",
       "      <td>1116</td>\n",
       "      <td>1116</td>\n",
       "      <td>1116</td>\n",
       "      <td>1116</td>\n",
       "      <td>1116</td>\n",
       "    </tr>\n",
       "    <tr>\n",
       "      <td>M05</td>\n",
       "      <td>1137</td>\n",
       "      <td>1137</td>\n",
       "      <td>1137</td>\n",
       "      <td>1137</td>\n",
       "      <td>1137</td>\n",
       "      <td>1137</td>\n",
       "      <td>1137</td>\n",
       "      <td>1137</td>\n",
       "      <td>1137</td>\n",
       "    </tr>\n",
       "  </tbody>\n",
       "</table>\n",
       "</div>"
      ],
      "text/plain": [
       "       path  gender  emotion  valence  activation  valence1  activation1  \\\n",
       "actor                                                                      \n",
       "F01     873     873      873      873         873       873          873   \n",
       "F02     859     859      859      859         859       859          859   \n",
       "F03    1048    1048     1048     1048        1048      1048         1048   \n",
       "F04     987     987      987      987         987       987          987   \n",
       "F05    1033    1033     1033     1033        1033      1033         1033   \n",
       "M01     946     946      946      946         946       946          946   \n",
       "M02     952     952      952      952         952       952          952   \n",
       "M03    1088    1088     1088     1088        1088      1088         1088   \n",
       "M04    1116    1116     1116     1116        1116      1116         1116   \n",
       "M05    1137    1137     1137     1137        1137      1137         1137   \n",
       "\n",
       "       MFB_var  MFB_eq  \n",
       "actor                   \n",
       "F01        873     873  \n",
       "F02        859     859  \n",
       "F03       1048    1048  \n",
       "F04        987     987  \n",
       "F05       1033    1033  \n",
       "M01        946     946  \n",
       "M02        952     952  \n",
       "M03       1088    1088  \n",
       "M04       1116    1116  \n",
       "M05       1137    1137  "
      ]
     },
     "execution_count": 309,
     "metadata": {},
     "output_type": "execute_result"
    }
   ],
   "source": [
    "actor_groupby.count()"
   ]
  },
  {
   "cell_type": "code",
   "execution_count": 19,
   "metadata": {},
   "outputs": [],
   "source": [
    "number = actor_groupby.size()"
   ]
  },
  {
   "cell_type": "code",
   "execution_count": 38,
   "metadata": {},
   "outputs": [
    {
     "data": {
      "text/plain": [
       "actor\n",
       "F01     873\n",
       "F02     859\n",
       "F03    1048\n",
       "F04     987\n",
       "F05    1033\n",
       "M01     946\n",
       "M02     952\n",
       "M03    1088\n",
       "M04    1116\n",
       "M05    1137\n",
       "dtype: int64"
      ]
     },
     "execution_count": 38,
     "metadata": {},
     "output_type": "execute_result"
    }
   ],
   "source": [
    "number"
   ]
  },
  {
   "cell_type": "code",
   "execution_count": null,
   "metadata": {},
   "outputs": [],
   "source": [
    "#mean and std.dev by feature by actor\n",
    "'''count = 0\n",
    "k=0\n",
    "means=[]\n",
    "sds=[]\n",
    "X=[]\n",
    "for num in number:\n",
    "    X=[]\n",
    "    for i in range(num):\n",
    "        for j in range(len(data_df['MFB'][i+k])):\n",
    "            X.append(data_df['MFB'][i+k][j])\n",
    "    print(i+k)\n",
    "    mean = np.mean(X,axis=0)\n",
    "    sd = np.std(X,axis=0)\n",
    "    means.append(mean)\n",
    "    sds.append(sd)\n",
    "    k=num+k\n",
    "    count+=1\n",
    "        \n"
   ]
  },
  {
   "cell_type": "code",
   "execution_count": 47,
   "metadata": {},
   "outputs": [
    {
     "name": "stderr",
     "output_type": "stream",
     "text": [
      "100%|██████████| 10/10 [02:20<00:00, 14.01s/it]\n"
     ]
    }
   ],
   "source": [
    "#norm by feature by actor\n",
    "'''count = 0\n",
    "#data_norm = pd.DataFrame(columns=['norm'])\n",
    "norm1 =[]\n",
    "norm2 = []\n",
    "k=0\n",
    "for num in tqdm(number):\n",
    "    for i in range(num):\n",
    "        norm1=[]\n",
    "        for j in range(len(data_df['MFB'][i+k])):\n",
    "            x = data_df['MFB'][i+k][j]- means[count]\n",
    "            y = np.divide(x,sds[count])\n",
    "            norm1.append(y)\n",
    "        norm2.append(norm1)\n",
    "    count+=1\n",
    "    k=num+i"
   ]
  },
  {
   "cell_type": "code",
   "execution_count": 110,
   "metadata": {},
   "outputs": [],
   "source": [
    "#feature_mean_1 = actor_feature.MFB.apply(lambda x: np.mean(x,axis=1))"
   ]
  },
  {
   "cell_type": "code",
   "execution_count": 43,
   "metadata": {},
   "outputs": [
    {
     "name": "stdout",
     "output_type": "stream",
     "text": [
      "872\n",
      "1731\n",
      "2779\n",
      "3766\n",
      "4799\n",
      "5745\n",
      "6697\n",
      "7785\n",
      "8901\n",
      "10038\n"
     ]
    }
   ],
   "source": [
    "#mean and std.dev by actor \n",
    "count = 0 #keeps count of actor number\n",
    "k=0 # keeps count of index number\n",
    "mean_1=[] \n",
    "sd_1=[]\n",
    "mean_2=[]\n",
    "sd_2=[]\n",
    "X=[] #list that has all frames belonging to one actor \n",
    "for num in number:\n",
    "    Xv=[]\n",
    "    Xe=[]\n",
    "    for i in range(num):\n",
    "        for j in range(len(data_df['MFB_var'][i+k])):\n",
    "            Xv.append(data_df['MFB_var'][i+k][j])\n",
    "        #for j in range(len(data_df['MFB_eq'][i+k])):\n",
    "            #Xe.append(data_df['MFB_eq'][i+k][j])\n",
    "    print(i+k)\n",
    "    mean1 = np.mean(Xv)\n",
    "    sdv1 = np.std(Xv)\n",
    "    mean2 = np.mean(Xv, axis=0)\n",
    "    sdv2 = np.std(Xv,axis=0 )\n",
    "    #meane = np.mean(Xe)\n",
    "    #sde = np.std(Xe)\n",
    "    mean_1.append(mean1)\n",
    "    sd_1.append(sdv1)\n",
    "    mean_2.append(mean2)\n",
    "    sd_2.append(sdv2)\n",
    "    #mean_eq.append(meane)\n",
    "    #sd_eq.append(sde)\n",
    "    k=num+k\n",
    "    count+=1\n",
    "        "
   ]
  },
  {
   "cell_type": "code",
   "execution_count": 45,
   "metadata": {},
   "outputs": [],
   "source": [
    "mean_v=np.zeros((10,40))\n",
    "sd_v=np.zeros((10,40))\n",
    "#mean_e=np.zeros((10,40))\n",
    "#sd_e=np.zeros((10,40))\n",
    "for i in range(10):\n",
    "    for j in range(40):\n",
    "        mean_v[i][j]=mean_1[i]\n",
    "        sd_v[i][j]=sd_1[i]\n",
    "        #mean_e[i][j]=mean_eq[i]\n",
    "        #sd_e[i][j]=sd_eq[i]"
   ]
  },
  {
   "cell_type": "code",
   "execution_count": null,
   "metadata": {},
   "outputs": [],
   "source": []
  },
  {
   "cell_type": "code",
   "execution_count": 50,
   "metadata": {},
   "outputs": [
    {
     "name": "stderr",
     "output_type": "stream",
     "text": [
      "100%|██████████| 10/10 [04:46<00:00, 28.66s/it]\n"
     ]
    }
   ],
   "source": [
    "# normalise over actors\n",
    "count = 0\n",
    "#data_norm = pd.DataFrame(columns=['norm'])\n",
    "norm2v =[]\n",
    "norm2e = []\n",
    "k=0\n",
    "for num in tqdm(number):\n",
    "    for i in range(num):\n",
    "        norm1v=[]\n",
    "        norm1e=[]\n",
    "        for j in range(len(data_df['MFB_var'][i+k])):\n",
    "            xv = data_df['MFB_var'][i+k][j]- mean_v[count]\n",
    "            yv = np.divide(xv,sd_v[count])\n",
    "            norm1v.append(yv)\n",
    "      \n",
    "            xe = data_df['MFB_var'][i+k][j]- mean_2[count]\n",
    "            ye = np.divide(xe,sd_2[count])\n",
    "            norm1e.append(ye)\n",
    "        norm2v.append(norm1v)\n",
    "        norm2e.append(norm1e)\n",
    "    count+=1\n",
    "    k=num+i"
   ]
  },
  {
   "cell_type": "code",
   "execution_count": 55,
   "metadata": {},
   "outputs": [
    {
     "data": {
      "text/plain": [
       "40"
      ]
     },
     "execution_count": 55,
     "metadata": {},
     "output_type": "execute_result"
    }
   ],
   "source": [
    "len(norm2e[0][0])"
   ]
  },
  {
   "cell_type": "code",
   "execution_count": 57,
   "metadata": {},
   "outputs": [],
   "source": [
    "data_df['norm_var']=norm2v\n",
    "data_df['norm_af']=norm2e"
   ]
  },
  {
   "cell_type": "code",
   "execution_count": null,
   "metadata": {},
   "outputs": [],
   "source": [
    "data_df['norm_var'].to_pickle('norm_act.pkl')\n",
    "data_df['norm_af'].to_pickle('norm_acfe.pkl')"
   ]
  },
  {
   "cell_type": "code",
   "execution_count": 345,
   "metadata": {},
   "outputs": [],
   "source": [
    "# break up feature file in sets of 500..total 20 pkl files \n",
    "count=0\n",
    "for i in range(20):\n",
    "    if (i!=19):\n",
    "        feat = data_df['norm_var'][count:count+500]\n",
    "        feat.to_pickle('norm_var1%s.pkl'%(i+1))\n",
    "    else:\n",
    "        feat=data_df['norm_var'][count:10039]\n",
    "        feat.to_pickle('norm_var1%s.pkl'%20)\n",
    "    count+=500\n",
    "\n"
   ]
  },
  {
   "cell_type": "code",
   "execution_count": 83,
   "metadata": {},
   "outputs": [],
   "source": [
    "# break up feature file in sets of 500..total 20 pkl files \n",
    "count=0\n",
    "for i in range(20):\n",
    "    if (i!=19):\n",
    "        feat1 = data_df['norm_eq'][count:count+500]\n",
    "        feat1.to_pickle('norm_eq%s.pkl'%(i+1))\n",
    "    else:\n",
    "        feat1=data_df['norm_eq'][count:10039]\n",
    "        feat1.to_pickle('norm_eq%s.pkl'%20)\n",
    "    count+=500\n",
    "\n"
   ]
  },
  {
   "cell_type": "code",
   "execution_count": 346,
   "metadata": {},
   "outputs": [],
   "source": [
    "# break up feature file in sets of 500..total 20 pkl files \n",
    "count=0\n",
    "for i in range(20):\n",
    "    if (i!=19):\n",
    "        feat1 = data_df['MFB_var'][count:count+500]\n",
    "        feat1.to_pickle('MFB_psf%s.pkl'%(i+1))\n",
    "    else:\n",
    "        feat1=data_df['MFB_var'][count:10039]\n",
    "        feat1.to_pickle('MFB_psf%s.pkl'%20)\n",
    "    count+=500\n",
    "\n"
   ]
  },
  {
   "cell_type": "code",
   "execution_count": 15,
   "metadata": {},
   "outputs": [],
   "source": [
    "data_df.to_pickle('IEMO_data.pkl')"
   ]
  },
  {
   "cell_type": "code",
   "execution_count": 86,
   "metadata": {},
   "outputs": [],
   "source": [
    "# break up feature file in sets of 500..total 20 pkl files \n",
    "count=0\n",
    "for i in range(20):\n",
    "    if (i!=19):\n",
    "        feat1 = data_df['MFB_eq'][count:count+500]\n",
    "        feat1.to_pickle('MFB_eq%s.pkl'%(i+1))\n",
    "    else:\n",
    "        feat1=data_df['MFB_eq'][count:10039]\n",
    "        feat1.to_pickle('MFB_eq%s.pkl'%20)\n",
    "    count+=500"
   ]
  },
  {
   "cell_type": "code",
   "execution_count": null,
   "metadata": {},
   "outputs": [],
   "source": [
    "'''count = 0\n",
    "prev = 0\n",
    "tot = np.zeros((689,40))\n",
    "std = []\n",
    "for num in number:\n",
    "    for i in range(num):   #sqrt(mean(abs(x - x.mean())**2))\n",
    "        tot += abs(data_df.MFB[i+prev]-feature_mean[count])**2\n",
    "    std.append(np.sqrt((tot)/(num-1)))\n",
    "    count+=1\n",
    "    print(prev+i)\n",
    "    prev = prev + num"
   ]
  },
  {
   "cell_type": "code",
   "execution_count": 164,
   "metadata": {},
   "outputs": [],
   "source": [
    "'''count = 0\n",
    "prev = 0\n",
    "data_df['normalized'] = data_df['MFB']\n",
    "for num in number:\n",
    "    for i in range(num):   #sqrt(mean(abs(x - x.mean())**2))\n",
    "        data_df['normalized'][i+prev] = (data_df.MFB[i+prev]-feature_mean[count])/std[count]\n",
    "    count+=1\n",
    "    prev = prev + num"
   ]
  },
  {
   "cell_type": "code",
   "execution_count": 168,
   "metadata": {},
   "outputs": [],
   "source": [
    "'''for i in range(len(data_df)):\n",
    "    data_df['normalized'][i] = np.where(np.isnan(data_df['normalized'][i]), 0, data_df['normalized'][i])\n",
    "\n"
   ]
  },
  {
   "cell_type": "code",
   "execution_count": 347,
   "metadata": {},
   "outputs": [],
   "source": [
    "data_df_copy = data_df"
   ]
  },
  {
   "cell_type": "code",
   "execution_count": 348,
   "metadata": {},
   "outputs": [],
   "source": [
    "data_df.drop('norm_var',axis=1,inplace=True )"
   ]
  },
  {
   "cell_type": "code",
   "execution_count": 349,
   "metadata": {},
   "outputs": [],
   "source": [
    "data_df.drop('MFB_var',axis=1,inplace=True )"
   ]
  },
  {
   "cell_type": "code",
   "execution_count": 350,
   "metadata": {},
   "outputs": [],
   "source": [
    "data_df.drop('MFB_eq',axis=1,inplace=True)"
   ]
  },
  {
   "cell_type": "code",
   "execution_count": 91,
   "metadata": {},
   "outputs": [],
   "source": [
    "data_df.drop('norm_eq',axis=1,inplace=True)"
   ]
  },
  {
   "cell_type": "code",
   "execution_count": 351,
   "metadata": {},
   "outputs": [
    {
     "data": {
      "text/html": [
       "<div>\n",
       "<style scoped>\n",
       "    .dataframe tbody tr th:only-of-type {\n",
       "        vertical-align: middle;\n",
       "    }\n",
       "\n",
       "    .dataframe tbody tr th {\n",
       "        vertical-align: top;\n",
       "    }\n",
       "\n",
       "    .dataframe thead th {\n",
       "        text-align: right;\n",
       "    }\n",
       "</style>\n",
       "<table border=\"1\" class=\"dataframe\">\n",
       "  <thead>\n",
       "    <tr style=\"text-align: right;\">\n",
       "      <th></th>\n",
       "      <th>path</th>\n",
       "      <th>actor</th>\n",
       "      <th>gender</th>\n",
       "      <th>emotion</th>\n",
       "      <th>valence</th>\n",
       "      <th>activation</th>\n",
       "      <th>valence1</th>\n",
       "      <th>activation1</th>\n",
       "    </tr>\n",
       "  </thead>\n",
       "  <tbody>\n",
       "    <tr>\n",
       "      <td>0</td>\n",
       "      <td>speech_files/Ses01F_impro01/Ses01F_impro01_F00...</td>\n",
       "      <td>F01</td>\n",
       "      <td>F</td>\n",
       "      <td>neu</td>\n",
       "      <td>low</td>\n",
       "      <td>low</td>\n",
       "      <td>low</td>\n",
       "      <td>low</td>\n",
       "    </tr>\n",
       "    <tr>\n",
       "      <td>1</td>\n",
       "      <td>speech_files/Ses01M_impro01/Ses01M_impro01_F00...</td>\n",
       "      <td>F01</td>\n",
       "      <td>F</td>\n",
       "      <td>xxx</td>\n",
       "      <td>mid</td>\n",
       "      <td>mid</td>\n",
       "      <td>low</td>\n",
       "      <td>mid</td>\n",
       "    </tr>\n",
       "    <tr>\n",
       "      <td>2</td>\n",
       "      <td>speech_files/Ses01F_impro07/Ses01F_impro07_F00...</td>\n",
       "      <td>F01</td>\n",
       "      <td>F</td>\n",
       "      <td>xxx</td>\n",
       "      <td>high</td>\n",
       "      <td>high</td>\n",
       "      <td>high</td>\n",
       "      <td>high</td>\n",
       "    </tr>\n",
       "    <tr>\n",
       "      <td>3</td>\n",
       "      <td>speech_files/Ses01F_impro06/Ses01F_impro06_F01...</td>\n",
       "      <td>F01</td>\n",
       "      <td>F</td>\n",
       "      <td>neu</td>\n",
       "      <td>low</td>\n",
       "      <td>low</td>\n",
       "      <td>low</td>\n",
       "      <td>low</td>\n",
       "    </tr>\n",
       "    <tr>\n",
       "      <td>4</td>\n",
       "      <td>speech_files/Ses01F_impro06/Ses01F_impro06_F02...</td>\n",
       "      <td>F01</td>\n",
       "      <td>F</td>\n",
       "      <td>sad</td>\n",
       "      <td>low</td>\n",
       "      <td>mid</td>\n",
       "      <td>low</td>\n",
       "      <td>mid</td>\n",
       "    </tr>\n",
       "  </tbody>\n",
       "</table>\n",
       "</div>"
      ],
      "text/plain": [
       "                                                path actor gender emotion  \\\n",
       "0  speech_files/Ses01F_impro01/Ses01F_impro01_F00...   F01      F     neu   \n",
       "1  speech_files/Ses01M_impro01/Ses01M_impro01_F00...   F01      F     xxx   \n",
       "2  speech_files/Ses01F_impro07/Ses01F_impro07_F00...   F01      F     xxx   \n",
       "3  speech_files/Ses01F_impro06/Ses01F_impro06_F01...   F01      F     neu   \n",
       "4  speech_files/Ses01F_impro06/Ses01F_impro06_F02...   F01      F     sad   \n",
       "\n",
       "  valence activation valence1 activation1  \n",
       "0     low        low      low         low  \n",
       "1     mid        mid      low         mid  \n",
       "2    high       high     high        high  \n",
       "3     low        low      low         low  \n",
       "4     low        mid      low         mid  "
      ]
     },
     "execution_count": 351,
     "metadata": {},
     "output_type": "execute_result"
    }
   ],
   "source": [
    "data_df.head()"
   ]
  },
  {
   "cell_type": "code",
   "execution_count": 352,
   "metadata": {},
   "outputs": [],
   "source": [
    "data_df.to_excel('data_dropped1.xlsx')"
   ]
  },
  {
   "cell_type": "code",
   "execution_count": 353,
   "metadata": {},
   "outputs": [],
   "source": [
    "data_df_copy.to_excel('data_var_eq1.xlsx')"
   ]
  },
  {
   "cell_type": "code",
   "execution_count": 42,
   "metadata": {},
   "outputs": [],
   "source": [
    "# break up feature file in sets of 500..total 20 pkl files \n",
    "'''count=0\n",
    "for i in range(18):\n",
    "    if (i!=17):\n",
    "        feat = data_df['norm'][count:count+500]\n",
    "        feat.to_pickle('feature_nan%s.pkl'%(i+1))\n",
    "    else:\n",
    "        feat=data_df['norm'][count:9156]\n",
    "        feat.to_pickle('feature_nan%s.pkl'%18)\n",
    "    count+=500\n"
   ]
  }
 ],
 "metadata": {
  "kernelspec": {
   "display_name": "Python 3",
   "language": "python",
   "name": "python3"
  },
  "language_info": {
   "codemirror_mode": {
    "name": "ipython",
    "version": 3
   },
   "file_extension": ".py",
   "mimetype": "text/x-python",
   "name": "python",
   "nbconvert_exporter": "python",
   "pygments_lexer": "ipython3",
   "version": "3.7.4"
  }
 },
 "nbformat": 4,
 "nbformat_minor": 4
}
