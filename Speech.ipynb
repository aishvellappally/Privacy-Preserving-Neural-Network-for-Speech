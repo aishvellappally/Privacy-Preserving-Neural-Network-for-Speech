{
  "nbformat": 4,
  "nbformat_minor": 0,
  "metadata": {
    "colab": {
      "name": "Speech.ipynb",
      "provenance": [],
      "mount_file_id": "1ZwDDyIlKtysn0upUmM9h0qz1O6Bm0t9c",
      "authorship_tag": "ABX9TyP9TyjIMW+DrYWkMUld4lxL",
      "include_colab_link": true
    },
    "kernelspec": {
      "name": "python3",
      "display_name": "Python 3"
    },
    "accelerator": "TPU"
  },
  "cells": [
    {
      "cell_type": "markdown",
      "metadata": {
        "id": "view-in-github",
        "colab_type": "text"
      },
      "source": [
        "<a href=\"https://colab.research.google.com/github/aishvellappally/Speech-Encoder/blob/master/Speech.ipynb\" target=\"_parent\"><img src=\"https://colab.research.google.com/assets/colab-badge.svg\" alt=\"Open In Colab\"/></a>"
      ]
    },
    {
      "cell_type": "code",
      "metadata": {
        "id": "VE6qId3jwBuZ",
        "colab_type": "code",
        "colab": {}
      },
      "source": [
        "import pandas as pd\n",
        "import numpy as np\n",
        "from sklearn.utils import shuffle\n",
        "from ast import literal_eval"
      ],
      "execution_count": 0,
      "outputs": []
    },
    {
      "cell_type": "code",
      "metadata": {
        "id": "9gUeH6ywSP61",
        "colab_type": "code",
        "outputId": "74118a2b-ef03-4b22-ba45-00e22fdcbee3",
        "colab": {
          "base_uri": "https://localhost:8080/",
          "height": 34
        }
      },
      "source": [
        "import sys\n",
        "if 'google.colab' in sys.modules: # Colab-only Tensorflow version selector\n",
        "  %tensorflow_version 2.x\n",
        "import tensorflow as tf\n",
        "print(\"Tensorflow version \" + tf.__version__)"
      ],
      "execution_count": 3,
      "outputs": [
        {
          "output_type": "stream",
          "text": [
            "Tensorflow version 2.2.0\n"
          ],
          "name": "stdout"
        }
      ]
    },
    {
      "cell_type": "code",
      "metadata": {
        "id": "BANU08LBSVKz",
        "colab_type": "code",
        "colab": {}
      },
      "source": [
        "import matplotlib.pyplot as plt\n",
        "from sklearn.metrics import mean_absolute_error, accuracy_score, recall_score\n",
        "from sklearn.model_selection import train_test_split\n",
        "import spacy \n",
        "from tensorflow.keras import initializers\n",
        "from tensorflow.keras.models import Model,Sequential\n",
        "import tensorflow.keras.layers\n",
        "from tensorflow.keras.regularizers import l1, l2, l1_l2\n",
        "from tensorflow.keras.layers import Dense, Input, Dropout, MaxPooling1D, Conv1D, Flatten, Activation, Bidirectional, GRU, BatchNormalization\n",
        "from tensorflow.keras.optimizers import Adam, RMSprop\n",
        "from tensorflow.keras.preprocessing.text import Tokenizer\n",
        "from sklearn.preprocessing import LabelEncoder\n",
        "from tensorflow.keras.utils import to_categorical\n",
        "from tensorflow.keras.callbacks import EarlyStopping, ModelCheckpoint, Callback, ReduceLROnPlateau\n",
        "import tensorflow.keras.callbacks\n",
        "import os"
      ],
      "execution_count": 0,
      "outputs": []
    },
    {
      "cell_type": "code",
      "metadata": {
        "id": "NRjW3YQjSNuP",
        "colab_type": "code",
        "outputId": "658c97ca-6a37-4cef-bf8c-499d8fc0a112",
        "colab": {
          "base_uri": "https://localhost:8080/",
          "height": 51
        }
      },
      "source": [
        "# Detect hardware, return appropriate distribution strategy\n",
        "try:\n",
        "    tpu = tf.distribute.cluster_resolver.TPUClusterResolver()  # TPU detection\n",
        "    print('Running on TPU ', tpu.cluster_spec().as_dict()['worker'])\n",
        "except ValueError:\n",
        "    tpu = None\n",
        "    gpus = tf.config.experimental.list_logical_devices(\"GPU\")\n",
        "\n",
        "if tpu:\n",
        "    tf.config.experimental_connect_to_cluster(tpu)\n",
        "    tf.tpu.experimental.initialize_tpu_system(tpu)\n",
        "    strategy = tf.distribute.experimental.TPUStrategy(tpu)\n",
        "elif len(gpus) > 1: # multiple GPUs in one VM\n",
        "    strategy = tf.distribute.MirroredStrategy(gpus)\n",
        "    print('multi-gpu')\n",
        "else: # default strategy that works on CPU and single GPU\n",
        "    strategy = tf.distribute.get_strategy()\n",
        "    print('cpu')\n",
        "\n",
        "print(\"REPLICAS: \", strategy.num_replicas_in_sync)"
      ],
      "execution_count": 6,
      "outputs": [
        {
          "output_type": "stream",
          "text": [
            "cpu\n",
            "REPLICAS:  1\n"
          ],
          "name": "stdout"
        }
      ]
    },
    {
      "cell_type": "code",
      "metadata": {
        "id": "fHmnzrAS4Abd",
        "colab_type": "code",
        "colab": {}
      },
      "source": [
        "np.random.seed(42)"
      ],
      "execution_count": 0,
      "outputs": []
    },
    {
      "cell_type": "code",
      "metadata": {
        "id": "roKIIW3kc8Sf",
        "colab_type": "code",
        "colab": {}
      },
      "source": [
        "data = pd.read_excel('data.xlsx', delimiter = '\\t')"
      ],
      "execution_count": 0,
      "outputs": []
    },
    {
      "cell_type": "code",
      "metadata": {
        "id": "3Idqf3WrJiAO",
        "colab_type": "code",
        "outputId": "215c6120-5b7a-4d12-c998-7fa58c26def2",
        "colab": {
          "base_uri": "https://localhost:8080/",
          "height": 204
        }
      },
      "source": [
        "data.head()"
      ],
      "execution_count": 0,
      "outputs": [
        {
          "output_type": "execute_result",
          "data": {
            "text/html": [
              "<div>\n",
              "<style scoped>\n",
              "    .dataframe tbody tr th:only-of-type {\n",
              "        vertical-align: middle;\n",
              "    }\n",
              "\n",
              "    .dataframe tbody tr th {\n",
              "        vertical-align: top;\n",
              "    }\n",
              "\n",
              "    .dataframe thead th {\n",
              "        text-align: right;\n",
              "    }\n",
              "</style>\n",
              "<table border=\"1\" class=\"dataframe\">\n",
              "  <thead>\n",
              "    <tr style=\"text-align: right;\">\n",
              "      <th></th>\n",
              "      <th>path</th>\n",
              "      <th>actor</th>\n",
              "      <th>gender</th>\n",
              "      <th>emotion</th>\n",
              "      <th>valence</th>\n",
              "      <th>activation</th>\n",
              "    </tr>\n",
              "  </thead>\n",
              "  <tbody>\n",
              "    <tr>\n",
              "      <th>0</th>\n",
              "      <td>speech_files/Ses01F_impro01/Ses01F_impro01_F00...</td>\n",
              "      <td>F01</td>\n",
              "      <td>F</td>\n",
              "      <td>neu</td>\n",
              "      <td>low</td>\n",
              "      <td>low</td>\n",
              "    </tr>\n",
              "    <tr>\n",
              "      <th>1</th>\n",
              "      <td>speech_files/Ses01M_impro03/Ses01M_impro03_F02...</td>\n",
              "      <td>F01</td>\n",
              "      <td>F</td>\n",
              "      <td>neu</td>\n",
              "      <td>high</td>\n",
              "      <td>mid</td>\n",
              "    </tr>\n",
              "    <tr>\n",
              "      <th>2</th>\n",
              "      <td>speech_files/Ses01M_impro03/Ses01M_impro03_F02...</td>\n",
              "      <td>F01</td>\n",
              "      <td>F</td>\n",
              "      <td>exc</td>\n",
              "      <td>high</td>\n",
              "      <td>mid</td>\n",
              "    </tr>\n",
              "    <tr>\n",
              "      <th>3</th>\n",
              "      <td>speech_files/Ses01M_impro03/Ses01M_impro03_F01...</td>\n",
              "      <td>F01</td>\n",
              "      <td>F</td>\n",
              "      <td>exc</td>\n",
              "      <td>high</td>\n",
              "      <td>high</td>\n",
              "    </tr>\n",
              "    <tr>\n",
              "      <th>4</th>\n",
              "      <td>speech_files/Ses01M_impro03/Ses01M_impro03_F01...</td>\n",
              "      <td>F01</td>\n",
              "      <td>F</td>\n",
              "      <td>neu</td>\n",
              "      <td>high</td>\n",
              "      <td>low</td>\n",
              "    </tr>\n",
              "  </tbody>\n",
              "</table>\n",
              "</div>"
            ],
            "text/plain": [
              "                                                path actor  ... valence activation\n",
              "0  speech_files/Ses01F_impro01/Ses01F_impro01_F00...   F01  ...     low        low\n",
              "1  speech_files/Ses01M_impro03/Ses01M_impro03_F02...   F01  ...    high        mid\n",
              "2  speech_files/Ses01M_impro03/Ses01M_impro03_F02...   F01  ...    high        mid\n",
              "3  speech_files/Ses01M_impro03/Ses01M_impro03_F01...   F01  ...    high       high\n",
              "4  speech_files/Ses01M_impro03/Ses01M_impro03_F01...   F01  ...    high        low\n",
              "\n",
              "[5 rows x 6 columns]"
            ]
          },
          "metadata": {
            "tags": []
          },
          "execution_count": 11
        }
      ]
    },
    {
      "cell_type": "code",
      "metadata": {
        "id": "07x4LHQVQLTC",
        "colab_type": "code",
        "colab": {}
      },
      "source": [
        "data = data.drop(['MFB', 'normalized'], axis=1)"
      ],
      "execution_count": 0,
      "outputs": []
    },
    {
      "cell_type": "code",
      "metadata": {
        "id": "ErYdJp4sQr_O",
        "colab_type": "code",
        "colab": {}
      },
      "source": [
        "data=data.drop(['Unnamed: 0'],axis=1)"
      ],
      "execution_count": 0,
      "outputs": []
    },
    {
      "cell_type": "code",
      "metadata": {
        "id": "xhPR-o7qDzIg",
        "colab_type": "code",
        "colab": {}
      },
      "source": [
        "data.replace(['low','mid','high'], [0,1,2], inplace = True)\n"
      ],
      "execution_count": 0,
      "outputs": []
    },
    {
      "cell_type": "code",
      "metadata": {
        "id": "wcUHzMqI5Kwn",
        "colab_type": "code",
        "colab": {}
      },
      "source": [
        "for i in range(20):\n",
        "  if (i == 0):\n",
        "    feat1_df = pd.read_pickle('drive/My Drive/feature_files/feat%s.pkl'%(i+1))\n",
        "    result = feat1_df\n",
        "  else:\n",
        "    feat_df = pd.read_pickle('drive/My Drive/feature_files/feat%s.pkl'%(i+1))\n",
        "    frames = [result,feat_df]\n",
        "    result = pd.concat(frames)"
      ],
      "execution_count": 0,
      "outputs": []
    },
    {
      "cell_type": "code",
      "metadata": {
        "id": "IjRzZ7A9PfGY",
        "colab_type": "code",
        "outputId": "86cfb527-59a9-497f-eba6-8696e49a2749",
        "colab": {
          "base_uri": "https://localhost:8080/",
          "height": 221
        }
      },
      "source": [
        "result.describe"
      ],
      "execution_count": 0,
      "outputs": [
        {
          "output_type": "execute_result",
          "data": {
            "text/plain": [
              "<bound method NDFrame.describe of 0        [[0.050485510982018166, -0.4740589625502711, -...\n",
              "1        [[0.4079305590203414, 1.094093912771009, 0.882...\n",
              "2        [[-0.7429864165689963, 1.1230922602270565, 1.8...\n",
              "3        [[0.535196903460652, -0.03808107946509253, -0....\n",
              "4        [[-1.1152232044198171, -0.06361567822243096, -...\n",
              "                               ...                        \n",
              "10034    [[0.5374178145754992, 0.6722891938399382, 0.21...\n",
              "10035    [[0.5880829466230881, 0.42633139691203165, 0.0...\n",
              "10036    [[-0.9971212568554284, -0.08129033576683752, 0...\n",
              "10037    [[-0.026595874521982137, -0.4252976670942085, ...\n",
              "10038    [[0.5370853148216128, 0.7652084455059001, 0.38...\n",
              "Name: normalized, Length: 10039, dtype: object>"
            ]
          },
          "metadata": {
            "tags": []
          },
          "execution_count": 14
        }
      ]
    },
    {
      "cell_type": "code",
      "metadata": {
        "id": "FGH0RY_iRRNj",
        "colab_type": "code",
        "colab": {}
      },
      "source": [
        "data['features']=result"
      ],
      "execution_count": 0,
      "outputs": []
    },
    {
      "cell_type": "code",
      "metadata": {
        "id": "8PmdQfObRafc",
        "colab_type": "code",
        "outputId": "68fcbb3d-10ba-45c5-db05-5a25d4045d79",
        "colab": {
          "base_uri": "https://localhost:8080/",
          "height": 289
        }
      },
      "source": [
        "data.head()"
      ],
      "execution_count": 0,
      "outputs": [
        {
          "output_type": "execute_result",
          "data": {
            "text/html": [
              "<div>\n",
              "<style scoped>\n",
              "    .dataframe tbody tr th:only-of-type {\n",
              "        vertical-align: middle;\n",
              "    }\n",
              "\n",
              "    .dataframe tbody tr th {\n",
              "        vertical-align: top;\n",
              "    }\n",
              "\n",
              "    .dataframe thead th {\n",
              "        text-align: right;\n",
              "    }\n",
              "</style>\n",
              "<table border=\"1\" class=\"dataframe\">\n",
              "  <thead>\n",
              "    <tr style=\"text-align: right;\">\n",
              "      <th></th>\n",
              "      <th>path</th>\n",
              "      <th>actor</th>\n",
              "      <th>gender</th>\n",
              "      <th>emotion</th>\n",
              "      <th>valence</th>\n",
              "      <th>activation</th>\n",
              "      <th>features</th>\n",
              "    </tr>\n",
              "  </thead>\n",
              "  <tbody>\n",
              "    <tr>\n",
              "      <th>0</th>\n",
              "      <td>speech_files/Ses01F_impro01/Ses01F_impro01_F00...</td>\n",
              "      <td>F01</td>\n",
              "      <td>F</td>\n",
              "      <td>neu</td>\n",
              "      <td>0</td>\n",
              "      <td>0</td>\n",
              "      <td>[[0.050485510982018166, -0.4740589625502711, -...</td>\n",
              "    </tr>\n",
              "    <tr>\n",
              "      <th>1</th>\n",
              "      <td>speech_files/Ses01M_impro03/Ses01M_impro03_F02...</td>\n",
              "      <td>F01</td>\n",
              "      <td>F</td>\n",
              "      <td>neu</td>\n",
              "      <td>2</td>\n",
              "      <td>1</td>\n",
              "      <td>[[0.4079305590203414, 1.094093912771009, 0.882...</td>\n",
              "    </tr>\n",
              "    <tr>\n",
              "      <th>2</th>\n",
              "      <td>speech_files/Ses01M_impro03/Ses01M_impro03_F02...</td>\n",
              "      <td>F01</td>\n",
              "      <td>F</td>\n",
              "      <td>exc</td>\n",
              "      <td>2</td>\n",
              "      <td>1</td>\n",
              "      <td>[[-0.7429864165689963, 1.1230922602270565, 1.8...</td>\n",
              "    </tr>\n",
              "    <tr>\n",
              "      <th>3</th>\n",
              "      <td>speech_files/Ses01M_impro03/Ses01M_impro03_F01...</td>\n",
              "      <td>F01</td>\n",
              "      <td>F</td>\n",
              "      <td>exc</td>\n",
              "      <td>2</td>\n",
              "      <td>2</td>\n",
              "      <td>[[0.535196903460652, -0.03808107946509253, -0....</td>\n",
              "    </tr>\n",
              "    <tr>\n",
              "      <th>4</th>\n",
              "      <td>speech_files/Ses01M_impro03/Ses01M_impro03_F01...</td>\n",
              "      <td>F01</td>\n",
              "      <td>F</td>\n",
              "      <td>neu</td>\n",
              "      <td>2</td>\n",
              "      <td>0</td>\n",
              "      <td>[[-1.1152232044198171, -0.06361567822243096, -...</td>\n",
              "    </tr>\n",
              "  </tbody>\n",
              "</table>\n",
              "</div>"
            ],
            "text/plain": [
              "                                                path  ...                                           features\n",
              "0  speech_files/Ses01F_impro01/Ses01F_impro01_F00...  ...  [[0.050485510982018166, -0.4740589625502711, -...\n",
              "1  speech_files/Ses01M_impro03/Ses01M_impro03_F02...  ...  [[0.4079305590203414, 1.094093912771009, 0.882...\n",
              "2  speech_files/Ses01M_impro03/Ses01M_impro03_F02...  ...  [[-0.7429864165689963, 1.1230922602270565, 1.8...\n",
              "3  speech_files/Ses01M_impro03/Ses01M_impro03_F01...  ...  [[0.535196903460652, -0.03808107946509253, -0....\n",
              "4  speech_files/Ses01M_impro03/Ses01M_impro03_F01...  ...  [[-1.1152232044198171, -0.06361567822243096, -...\n",
              "\n",
              "[5 rows x 7 columns]"
            ]
          },
          "metadata": {
            "tags": []
          },
          "execution_count": 16
        }
      ]
    },
    {
      "cell_type": "code",
      "metadata": {
        "id": "jchWnpKOar3n",
        "colab_type": "code",
        "colab": {}
      },
      "source": [
        "# train _ val _ test split\n",
        "actor_group = data.groupby('actor')"
      ],
      "execution_count": 0,
      "outputs": []
    },
    {
      "cell_type": "code",
      "metadata": {
        "id": "UFA1emGwfI7E",
        "colab_type": "code",
        "colab": {}
      },
      "source": [
        "num_actors = actor_group.size()"
      ],
      "execution_count": 0,
      "outputs": []
    },
    {
      "cell_type": "code",
      "metadata": {
        "id": "TfByXSkyfrlW",
        "colab_type": "code",
        "outputId": "c120a753-5582-41ba-cf1d-f794e400d47c",
        "colab": {
          "base_uri": "https://localhost:8080/",
          "height": 221
        }
      },
      "source": [
        "num_actors"
      ],
      "execution_count": 0,
      "outputs": [
        {
          "output_type": "execute_result",
          "data": {
            "text/plain": [
              "actor\n",
              "F01     873\n",
              "F02     859\n",
              "F03    1048\n",
              "F04     987\n",
              "F05    1033\n",
              "M01     946\n",
              "M02     952\n",
              "M03    1088\n",
              "M04    1116\n",
              "M05    1137\n",
              "dtype: int64"
            ]
          },
          "metadata": {
            "tags": []
          },
          "execution_count": 19
        }
      ]
    },
    {
      "cell_type": "code",
      "metadata": {
        "id": "k5uIWJxoftIb",
        "colab_type": "code",
        "colab": {}
      },
      "source": [
        "#training for emotion classifier\n",
        "df_train = data[0:3767]\n",
        "df_train= df_train.append(data[4800:8902]) #training data has F01-F04, M01-M04"
      ],
      "execution_count": 0,
      "outputs": []
    },
    {
      "cell_type": "code",
      "metadata": {
        "id": "YQZ6YMmXaVuG",
        "colab_type": "code",
        "colab": {}
      },
      "source": [
        "df_train = df_train.reset_index(drop = True)"
      ],
      "execution_count": 0,
      "outputs": []
    },
    {
      "cell_type": "code",
      "metadata": {
        "id": "QiO0AecBuVzg",
        "colab_type": "code",
        "colab": {}
      },
      "source": [
        "df_train_shuff = shuffle(df_train, random_state=42)"
      ],
      "execution_count": 0,
      "outputs": []
    },
    {
      "cell_type": "code",
      "metadata": {
        "id": "Ddu2IuUdHjhI",
        "colab_type": "code",
        "outputId": "2c926865-767c-496a-97c2-9c22b73586dc",
        "colab": {
          "base_uri": "https://localhost:8080/",
          "height": 589
        }
      },
      "source": [
        "df_train_shuff"
      ],
      "execution_count": 0,
      "outputs": [
        {
          "output_type": "execute_result",
          "data": {
            "text/html": [
              "<div>\n",
              "<style scoped>\n",
              "    .dataframe tbody tr th:only-of-type {\n",
              "        vertical-align: middle;\n",
              "    }\n",
              "\n",
              "    .dataframe tbody tr th {\n",
              "        vertical-align: top;\n",
              "    }\n",
              "\n",
              "    .dataframe thead th {\n",
              "        text-align: right;\n",
              "    }\n",
              "</style>\n",
              "<table border=\"1\" class=\"dataframe\">\n",
              "  <thead>\n",
              "    <tr style=\"text-align: right;\">\n",
              "      <th></th>\n",
              "      <th>path</th>\n",
              "      <th>actor</th>\n",
              "      <th>gender</th>\n",
              "      <th>emotion</th>\n",
              "      <th>valence</th>\n",
              "      <th>activation</th>\n",
              "      <th>features</th>\n",
              "    </tr>\n",
              "  </thead>\n",
              "  <tbody>\n",
              "    <tr>\n",
              "      <th>7794</th>\n",
              "      <td>speech_files/Ses04M_script02_1/Ses04M_script02...</td>\n",
              "      <td>M04</td>\n",
              "      <td>M</td>\n",
              "      <td>exc</td>\n",
              "      <td>1</td>\n",
              "      <td>0</td>\n",
              "      <td>[[-0.10906241270490516, -0.043124719471154954,...</td>\n",
              "    </tr>\n",
              "    <tr>\n",
              "      <th>503</th>\n",
              "      <td>speech_files/Ses01M_script01_1/Ses01M_script01...</td>\n",
              "      <td>F01</td>\n",
              "      <td>F</td>\n",
              "      <td>ang</td>\n",
              "      <td>0</td>\n",
              "      <td>2</td>\n",
              "      <td>[[-0.03509190950606585, 0.6225776587168179, 0....</td>\n",
              "    </tr>\n",
              "    <tr>\n",
              "      <th>6496</th>\n",
              "      <td>speech_files/Ses03M_impro05a/Ses03M_impro05a_M...</td>\n",
              "      <td>M03</td>\n",
              "      <td>M</td>\n",
              "      <td>xxx</td>\n",
              "      <td>0</td>\n",
              "      <td>2</td>\n",
              "      <td>[[0.2735971425279483, 0.2641175535829344, -0.1...</td>\n",
              "    </tr>\n",
              "    <tr>\n",
              "      <th>5046</th>\n",
              "      <td>speech_files/Ses02M_impro03/Ses02M_impro03_M01...</td>\n",
              "      <td>M02</td>\n",
              "      <td>M</td>\n",
              "      <td>hap</td>\n",
              "      <td>2</td>\n",
              "      <td>2</td>\n",
              "      <td>[[0.041337888254272884, 0.10609194808524976, -...</td>\n",
              "    </tr>\n",
              "    <tr>\n",
              "      <th>2298</th>\n",
              "      <td>speech_files/Ses03F_impro08/Ses03F_impro08_F02...</td>\n",
              "      <td>F03</td>\n",
              "      <td>F</td>\n",
              "      <td>neu</td>\n",
              "      <td>1</td>\n",
              "      <td>1</td>\n",
              "      <td>[[0.4262206875174722, -0.443585043402195, -0.3...</td>\n",
              "    </tr>\n",
              "    <tr>\n",
              "      <th>...</th>\n",
              "      <td>...</td>\n",
              "      <td>...</td>\n",
              "      <td>...</td>\n",
              "      <td>...</td>\n",
              "      <td>...</td>\n",
              "      <td>...</td>\n",
              "      <td>...</td>\n",
              "    </tr>\n",
              "    <tr>\n",
              "      <th>5226</th>\n",
              "      <td>speech_files/Ses02M_script03_2/Ses02M_script03...</td>\n",
              "      <td>M02</td>\n",
              "      <td>M</td>\n",
              "      <td>fru</td>\n",
              "      <td>0</td>\n",
              "      <td>1</td>\n",
              "      <td>[[0.08388802173717781, 0.08193687326233184, -0...</td>\n",
              "    </tr>\n",
              "    <tr>\n",
              "      <th>5390</th>\n",
              "      <td>speech_files/Ses02M_script03_2/Ses02M_script03...</td>\n",
              "      <td>M02</td>\n",
              "      <td>M</td>\n",
              "      <td>fru</td>\n",
              "      <td>0</td>\n",
              "      <td>0</td>\n",
              "      <td>[[-0.08692197806540758, -0.20013992630093408, ...</td>\n",
              "    </tr>\n",
              "    <tr>\n",
              "      <th>860</th>\n",
              "      <td>speech_files/Ses01F_script02_1/Ses01F_script02...</td>\n",
              "      <td>F01</td>\n",
              "      <td>F</td>\n",
              "      <td>hap</td>\n",
              "      <td>2</td>\n",
              "      <td>0</td>\n",
              "      <td>[[-0.9491783861000763, -0.3252826994574215, -0...</td>\n",
              "    </tr>\n",
              "    <tr>\n",
              "      <th>7603</th>\n",
              "      <td>speech_files/Ses04M_script02_1/Ses04M_script02...</td>\n",
              "      <td>M04</td>\n",
              "      <td>M</td>\n",
              "      <td>xxx</td>\n",
              "      <td>0</td>\n",
              "      <td>0</td>\n",
              "      <td>[[0.3408864634550491, 0.13185305285829071, -0....</td>\n",
              "    </tr>\n",
              "    <tr>\n",
              "      <th>7270</th>\n",
              "      <td>speech_files/Ses04F_impro01/Ses04F_impro01_M01...</td>\n",
              "      <td>M04</td>\n",
              "      <td>M</td>\n",
              "      <td>fru</td>\n",
              "      <td>0</td>\n",
              "      <td>0</td>\n",
              "      <td>[[0.44346500515864706, 0.21594134782944144, -0...</td>\n",
              "    </tr>\n",
              "  </tbody>\n",
              "</table>\n",
              "<p>7869 rows × 7 columns</p>\n",
              "</div>"
            ],
            "text/plain": [
              "                                                   path  ...                                           features\n",
              "7794  speech_files/Ses04M_script02_1/Ses04M_script02...  ...  [[-0.10906241270490516, -0.043124719471154954,...\n",
              "503   speech_files/Ses01M_script01_1/Ses01M_script01...  ...  [[-0.03509190950606585, 0.6225776587168179, 0....\n",
              "6496  speech_files/Ses03M_impro05a/Ses03M_impro05a_M...  ...  [[0.2735971425279483, 0.2641175535829344, -0.1...\n",
              "5046  speech_files/Ses02M_impro03/Ses02M_impro03_M01...  ...  [[0.041337888254272884, 0.10609194808524976, -...\n",
              "2298  speech_files/Ses03F_impro08/Ses03F_impro08_F02...  ...  [[0.4262206875174722, -0.443585043402195, -0.3...\n",
              "...                                                 ...  ...                                                ...\n",
              "5226  speech_files/Ses02M_script03_2/Ses02M_script03...  ...  [[0.08388802173717781, 0.08193687326233184, -0...\n",
              "5390  speech_files/Ses02M_script03_2/Ses02M_script03...  ...  [[-0.08692197806540758, -0.20013992630093408, ...\n",
              "860   speech_files/Ses01F_script02_1/Ses01F_script02...  ...  [[-0.9491783861000763, -0.3252826994574215, -0...\n",
              "7603  speech_files/Ses04M_script02_1/Ses04M_script02...  ...  [[0.3408864634550491, 0.13185305285829071, -0....\n",
              "7270  speech_files/Ses04F_impro01/Ses04F_impro01_M01...  ...  [[0.44346500515864706, 0.21594134782944144, -0...\n",
              "\n",
              "[7869 rows x 7 columns]"
            ]
          },
          "metadata": {
            "tags": []
          },
          "execution_count": 24
        }
      ]
    },
    {
      "cell_type": "code",
      "metadata": {
        "id": "xNns0vqgubYR",
        "colab_type": "code",
        "outputId": "416b3c9f-dbd6-4f50-ce98-d43a37415b8d",
        "colab": {
          "base_uri": "https://localhost:8080/",
          "height": 51
        }
      },
      "source": [
        "np.unique(df_train_shuff['actor'])"
      ],
      "execution_count": 0,
      "outputs": [
        {
          "output_type": "execute_result",
          "data": {
            "text/plain": [
              "array(['F01', 'F02', 'F03', 'F04', 'M01', 'M02', 'M03', 'M04'],\n",
              "      dtype=object)"
            ]
          },
          "metadata": {
            "tags": []
          },
          "execution_count": 29
        }
      ]
    },
    {
      "cell_type": "code",
      "metadata": {
        "id": "vukGLGZNtRrM",
        "colab_type": "code",
        "colab": {}
      },
      "source": [
        "X_train = df_train_shuff['features']\n",
        "y1_train = df_train_shuff['valence']"
      ],
      "execution_count": 0,
      "outputs": []
    },
    {
      "cell_type": "code",
      "metadata": {
        "id": "zU9SJ8CdXv4-",
        "colab_type": "code",
        "outputId": "ca384873-3767-4207-bf52-d25f91ac8f41",
        "colab": {
          "base_uri": "https://localhost:8080/",
          "height": 221
        }
      },
      "source": [
        "y1_train"
      ],
      "execution_count": 0,
      "outputs": [
        {
          "output_type": "execute_result",
          "data": {
            "text/plain": [
              "7794    1\n",
              "503     0\n",
              "6496    0\n",
              "5046    2\n",
              "2298    1\n",
              "       ..\n",
              "5226    0\n",
              "5390    0\n",
              "860     2\n",
              "7603    0\n",
              "7270    0\n",
              "Name: valence, Length: 7869, dtype: int64"
            ]
          },
          "metadata": {
            "tags": []
          },
          "execution_count": 49
        }
      ]
    },
    {
      "cell_type": "code",
      "metadata": {
        "id": "AWeX2EDhVFjs",
        "colab_type": "code",
        "outputId": "5868eb3e-1724-48a1-e943-1aac22f90e2f",
        "colab": {
          "base_uri": "https://localhost:8080/",
          "height": 221
        }
      },
      "source": [
        "df_test = data[['features','valence']][8902:10039] #test set has M05\n",
        "df_test = df_test.reset_index(drop=True)\n",
        "df_test = shuffle(df_test)\n",
        "X_test= df_test['features']\n",
        "y1_test=df_test['valence']\n",
        "\n",
        "X_test"
      ],
      "execution_count": 0,
      "outputs": [
        {
          "output_type": "execute_result",
          "data": {
            "text/plain": [
              "556    [[-0.15926841459002272, -0.4076696312896961, -...\n",
              "241    [[-0.6549255057733625, 0.29846889100269525, 0....\n",
              "513    [[0.18957583541396703, -0.25070983329062524, -...\n",
              "204    [[0.5354949737204711, 0.7044430544139382, 0.30...\n",
              "148    [[0.4942554133264459, -0.02960022729107716, 0....\n",
              "                             ...                        \n",
              "731    [[-0.05488042403474618, -0.47809356508522177, ...\n",
              "186    [[0.58321706485984, 0.5411173247107891, 0.1431...\n",
              "807    [[-0.6215119754287598, -0.9053124659436508, -0...\n",
              "462    [[-0.080803740619455, -0.3916059364828743, -0....\n",
              "879    [[0.5736778583391235, 0.5382319217991249, 0.35...\n",
              "Name: features, Length: 1137, dtype: object"
            ]
          },
          "metadata": {
            "tags": []
          },
          "execution_count": 51
        }
      ]
    },
    {
      "cell_type": "code",
      "metadata": {
        "id": "Gt2p5AVAV7Pe",
        "colab_type": "code",
        "outputId": "d1ffa4e9-d867-47db-a828-252a0e7bbd52",
        "colab": {
          "base_uri": "https://localhost:8080/",
          "height": 221
        }
      },
      "source": [
        "y1_test"
      ],
      "execution_count": 0,
      "outputs": [
        {
          "output_type": "execute_result",
          "data": {
            "text/plain": [
              "556    2\n",
              "241    1\n",
              "513    0\n",
              "204    2\n",
              "148    1\n",
              "      ..\n",
              "731    2\n",
              "186    2\n",
              "807    0\n",
              "462    0\n",
              "879    0\n",
              "Name: valence, Length: 1137, dtype: int64"
            ]
          },
          "metadata": {
            "tags": []
          },
          "execution_count": 52
        }
      ]
    },
    {
      "cell_type": "code",
      "metadata": {
        "id": "gS8pJeRBXBFd",
        "colab_type": "code",
        "outputId": "a5d37486-4e2c-4265-fbc9-867592548e45",
        "colab": {
          "base_uri": "https://localhost:8080/",
          "height": 221
        }
      },
      "source": [
        "df_val = data[['features','valence']][3767:4800] #validation set has F05\n",
        "df_val = df_val.reset_index(drop=True)\n",
        "df_val=shuffle(df_val)\n",
        "X_val = df_val['features']\n",
        "y1_val = df_val['valence']\n",
        "y1_val"
      ],
      "execution_count": 0,
      "outputs": [
        {
          "output_type": "execute_result",
          "data": {
            "text/plain": [
              "305    0\n",
              "164    2\n",
              "422    0\n",
              "190    0\n",
              "123    2\n",
              "      ..\n",
              "270    0\n",
              "251    0\n",
              "640    2\n",
              "208    0\n",
              "343    2\n",
              "Name: valence, Length: 1033, dtype: int64"
            ]
          },
          "metadata": {
            "tags": []
          },
          "execution_count": 54
        }
      ]
    },
    {
      "cell_type": "code",
      "metadata": {
        "id": "tRoyFXpYXDST",
        "colab_type": "code",
        "outputId": "2d6a310b-9ae7-4ac7-b2a9-3d694e203772",
        "colab": {
          "base_uri": "https://localhost:8080/",
          "height": 34
        }
      },
      "source": [
        "np.unique(data['actor'][3767:4800])"
      ],
      "execution_count": 0,
      "outputs": [
        {
          "output_type": "execute_result",
          "data": {
            "text/plain": [
              "array(['F05'], dtype=object)"
            ]
          },
          "metadata": {
            "tags": []
          },
          "execution_count": 42
        }
      ]
    },
    {
      "cell_type": "code",
      "metadata": {
        "id": "I-f1AvnuCAb1",
        "colab_type": "code",
        "colab": {}
      },
      "source": [
        "class_weights_val = {0: 1,\n",
        "                1: 3.4,\n",
        "                2: 1.9}\n",
        "class_weights_act = {0: 1.2,\n",
        "                1: 1.3,\n",
        "                2: 1}               "
      ],
      "execution_count": 0,
      "outputs": []
    },
    {
      "cell_type": "code",
      "metadata": {
        "id": "VA1dRkLOXQvq",
        "colab_type": "code",
        "colab": {}
      },
      "source": [
        "num_classes = 3\n",
        "def onehot(arr, num_class):\n",
        "    return np.eye(num_class)[np.array(arr.astype(int)).reshape(-1)]\n",
        "\n",
        "y1_train = onehot(y1_train, num_classes)\n",
        "y1_test = onehot(y1_test, num_classes)\n",
        "y1_val = onehot(y1_val, num_classes)"
      ],
      "execution_count": 0,
      "outputs": []
    },
    {
      "cell_type": "code",
      "metadata": {
        "id": "Wf7FcGXIHTOt",
        "colab_type": "code",
        "outputId": "40b23a75-70db-4864-94b9-b50355638f3a",
        "colab": {
          "base_uri": "https://localhost:8080/",
          "height": 136
        }
      },
      "source": [
        "y1_train"
      ],
      "execution_count": 0,
      "outputs": [
        {
          "output_type": "execute_result",
          "data": {
            "text/plain": [
              "array([[0., 1., 0.],\n",
              "       [1., 0., 0.],\n",
              "       [1., 0., 0.],\n",
              "       ...,\n",
              "       [0., 0., 1.],\n",
              "       [1., 0., 0.],\n",
              "       [1., 0., 0.]])"
            ]
          },
          "metadata": {
            "tags": []
          },
          "execution_count": 56
        }
      ]
    },
    {
      "cell_type": "code",
      "metadata": {
        "id": "TkoRJzPpX-6e",
        "colab_type": "code",
        "outputId": "0bdd44e1-316b-49fb-9f4c-eacc5b40a393",
        "colab": {
          "base_uri": "https://localhost:8080/",
          "height": 136
        }
      },
      "source": [
        "y1_val"
      ],
      "execution_count": 0,
      "outputs": [
        {
          "output_type": "execute_result",
          "data": {
            "text/plain": [
              "array([[1., 0., 0.],\n",
              "       [0., 0., 1.],\n",
              "       [1., 0., 0.],\n",
              "       ...,\n",
              "       [0., 0., 1.],\n",
              "       [1., 0., 0.],\n",
              "       [0., 0., 1.]])"
            ]
          },
          "metadata": {
            "tags": []
          },
          "execution_count": 57
        }
      ]
    },
    {
      "cell_type": "code",
      "metadata": {
        "id": "0Jp4nnYnYBZz",
        "colab_type": "code",
        "outputId": "868678c0-0180-4956-b49a-a117f7754a1b",
        "colab": {
          "base_uri": "https://localhost:8080/",
          "height": 136
        }
      },
      "source": [
        "y1_test"
      ],
      "execution_count": 0,
      "outputs": [
        {
          "output_type": "execute_result",
          "data": {
            "text/plain": [
              "array([[0., 0., 1.],\n",
              "       [0., 1., 0.],\n",
              "       [1., 0., 0.],\n",
              "       ...,\n",
              "       [1., 0., 0.],\n",
              "       [1., 0., 0.],\n",
              "       [1., 0., 0.]])"
            ]
          },
          "metadata": {
            "tags": []
          },
          "execution_count": 58
        }
      ]
    },
    {
      "cell_type": "code",
      "metadata": {
        "id": "iymo-6a8aKGF",
        "colab_type": "code",
        "outputId": "73cbacb4-b5b8-4dd4-b9fc-721fae4c44c3",
        "colab": {
          "base_uri": "https://localhost:8080/",
          "height": 34
        }
      },
      "source": [
        "X_train.shape[0]"
      ],
      "execution_count": 88,
      "outputs": [
        {
          "output_type": "execute_result",
          "data": {
            "text/plain": [
              "7869"
            ]
          },
          "metadata": {
            "tags": []
          },
          "execution_count": 88
        }
      ]
    },
    {
      "cell_type": "code",
      "metadata": {
        "id": "wLtH5qRQuWXK",
        "colab_type": "code",
        "colab": {}
      },
      "source": [
        "X1_train = np.zeros((X_train.shape[0],448,40))\n",
        "for i in range(X_train.shape[0]):\n",
        "  for j in range(448):\n",
        "      X1_train[i][j][0:40]=X_train[i][j][0:40]"
      ],
      "execution_count": 0,
      "outputs": []
    },
    {
      "cell_type": "code",
      "metadata": {
        "id": "RogqPH4bZLTl",
        "colab_type": "code",
        "colab": {}
      },
      "source": [
        "X1_val = np.zeros((X_val.shape[0],448,40))\n",
        "for i in range(X_val.shape[0]):\n",
        "  for j in range(448):\n",
        "      X1_val[i][j][0:40]=X_val[i][j][0:40]"
      ],
      "execution_count": 0,
      "outputs": []
    },
    {
      "cell_type": "code",
      "metadata": {
        "id": "9Zzu5XLvKAlQ",
        "colab_type": "code",
        "colab": {}
      },
      "source": [
        "X1_test = np.zeros((X_test.shape[0],448,40))\n",
        "for i in range(X_test.shape[0]):\n",
        "  for j in range(448):\n",
        "      X1_test[i][j][0:40]=X_test[i][j][0:40]"
      ],
      "execution_count": 0,
      "outputs": []
    },
    {
      "cell_type": "code",
      "metadata": {
        "id": "bjX0Xc11trpR",
        "colab_type": "code",
        "colab": {}
      },
      "source": [
        "def create_model():\n",
        "  nb_filter = [128,128,128,64,64]\n",
        "  filter_length = [2,2,2,2,2]\n",
        "  pool_length = 2\n",
        "  in_frames = Input(shape=(448,40), dtype='float')\n",
        "  \n",
        "  embedded = Conv1D(filters=128,kernel_size=2,padding='same',activation='relu',kernel_initializer='glorot_normal',\n",
        "                    strides=1)(in_frames)\n",
        "  embedded = MaxPooling1D(pool_size=pool_length)(embedded)\n",
        "  embedded = Dropout(0.2)(embedded)\n",
        "  embedded = Conv1D(filters=128,kernel_size=2,padding='same',activation='relu',kernel_initializer='glorot_normal',\n",
        "                    strides=1)(embedded)\n",
        "  embedded = MaxPooling1D(pool_size=pool_length)(embedded)\n",
        "  embedded = Dropout(0.2)(embedded)\n",
        "  embedded = Conv1D(filters=128,kernel_size=2,padding='same',activation='relu',kernel_initializer='glorot_normal',\n",
        "                    strides=1)(embedded)\n",
        "  embedded = MaxPooling1D(pool_size=pool_length)(embedded)\n",
        "  embedded = Dropout(0.2)(embedded)\n",
        "  embedded = Conv1D(filters=128,kernel_size=2,padding='same',activation='relu',kernel_initializer='glorot_normal',\n",
        "                    strides=1)(embedded)\n",
        "  embedded = MaxPooling1D(pool_size=pool_length)(embedded)\n",
        "  embedded = Dropout(0.2)(embedded)\n",
        "  embedded = Conv1D(filters=128,kernel_size=2,padding='same',activation='relu',kernel_initializer='glorot_normal',\n",
        "                    strides=1)(embedded)\n",
        "  embedded = MaxPooling1D(pool_size=pool_length)(embedded)\n",
        "  embedded = Dropout(0.2)(embedded)\n",
        "    \n",
        "   \n",
        "  b_gru_1 = Bidirectional(GRU(64, return_sequences=False, dropout=0.2, recurrent_dropout=0.2, implementation=0))(embedded)\n",
        "  #b_gru_2 = Bidirectional(GRU(32, return_sequences=False, dropout=0.2, recurrent_dropout=0.2, implementation=0))(b_gru_1)\n",
        "\n",
        "  output = Dropout(0.2)(b_gru_1)\n",
        "  output = Dense(3, activation='softmax')(output)\n",
        "\n",
        "  model = Model(inputs=in_frames, outputs=output)\n",
        "\n",
        "  model.summary()\n",
        "  model.compile(loss='categorical_crossentropy', optimizer='RMSprop', metrics=['ACCURACY',UAR])\n",
        "  return model\n"
      ],
      "execution_count": 0,
      "outputs": []
    },
    {
      "cell_type": "code",
      "metadata": {
        "id": "AVnTfs-Hmkmf",
        "colab_type": "code",
        "colab": {}
      },
      "source": [
        "from keras import backend as K\n",
        "def UAR(y_true, y_pred):\n",
        "  TP = [0,0,0]\n",
        "  FN = [0,0,0]\n",
        "  for i in range(y_true.shape[0]):\n",
        "    if (y_true[i][0]==1):\n",
        "      if (y_pred[i][0]>=0.5):\n",
        "        TP[0]+=1\n",
        "      else:\n",
        "        FN[0]+=1\n",
        "    elif (y_true[i][1]==1):\n",
        "      if (y_pred[i][1]>=0.5):\n",
        "        TP[1]+=1\n",
        "      else:\n",
        "        FN[1]+=1\n",
        "    else:\n",
        "      if (y_pred[i][2]>=0.5):\n",
        "        TP[2]+=1\n",
        "      else:\n",
        "        FN[2]+=1\n",
        "    avg_recall = 1/3* ((TP[0]/(TP[0]+FN[0]))+(TP[1]/(TP[1]+FN[1]))+(TP[2]/(TP[2]+FN[2])))\n",
        "  return avg_recall"
      ],
      "execution_count": 0,
      "outputs": []
    },
    {
      "cell_type": "code",
      "metadata": {
        "id": "-uuVFTttSHyz",
        "colab_type": "code",
        "outputId": "12d8c82f-f298-4b06-bc1d-19d038f3d799",
        "colab": {
          "base_uri": "https://localhost:8080/",
          "height": 867
        }
      },
      "source": [
        "with strategy.scope():\n",
        "  model = Sequential()\n",
        "  model.add(Input(shape=(448,40),dtype='float'))\n",
        "  model.add(Conv1D(128, 2, padding='causal',input_shape=(448,40), activation = 'selu', use_bias=True, kernel_initializer='lecun_normal',\n",
        "                   kernel_regularizer = l2(1e-6)))\n",
        "  model.add(BatchNormalization())\n",
        "    #model.add(Activation('selu'))\n",
        "  model.add(MaxPooling1D(2))\n",
        "  model.add(Conv1D(128, 2, padding='causal', activation = 'selu', use_bias=True, kernel_initializer='lecun_normal',\n",
        "                   kernel_regularizer = l2(1e-6)))\n",
        "  model.add(BatchNormalization())\n",
        "    #model.add(Activation('selu'))\n",
        "  model.add(MaxPooling1D(2))\n",
        "  model.add(Conv1D(64, 2, padding='causal', activation = 'selu', use_bias=True, kernel_initializer='lecun_normal',\n",
        "                   kernel_regularizer = l2(1e-6)))\n",
        "  model.add(BatchNormalization())\n",
        "    #model.add(Activation('selu'))\n",
        "  model.add(MaxPooling1D(2))\n",
        "  model.add(Conv1D(64, 2, padding='causal', activation = 'selu', use_bias=True, kernel_initializer='lecun_normal',\n",
        "                   kernel_regularizer = l2(1e-6)))\n",
        "  model.add(BatchNormalization())\n",
        "  # model.add(Activation('selu'))\n",
        "  model.add(MaxPooling1D(2))\n",
        "  model.add(Conv1D(64, 2, padding='causal', activation = 'selu', use_bias=True, kernel_initializer='lecun_normal',\n",
        "                   kernel_regularizer = l2(1e-6)))\n",
        "  model.add(BatchNormalization())\n",
        "    #model.add(Activation('selu'))\n",
        "  model.add(MaxPooling1D(2))\n",
        "  model.add(Bidirectional(GRU(64, return_sequences=True, recurrent_dropout=0.2, dropout = 0.2, implementation=2, \n",
        "                              use_bias=True,kernel_regularizer=l2(1e-5),recurrent_regularizer = l2(1e-6))))\n",
        "  model.add(Bidirectional(GRU(64, return_sequences=False, recurrent_dropout=0.2, dropout = 0.2, implementation=2, \n",
        "                              use_bias=True,kernel_regularizer=l2(1e-5),recurrent_regularizer = l2(1e-6))))\n",
        "  model.add(BatchNormalization())\n",
        "  model.add(Flatten())\n",
        "  model.add(Dense(3))\n",
        "  model.add(Activation('softmax'))\n",
        "  opt = RMSprop(momentum=0.9)\n",
        "  model.summary()\n",
        "  model.compile(loss='categorical_crossentropy', optimizer=opt, metrics=['accuracy', UAR])"
      ],
      "execution_count": 102,
      "outputs": [
        {
          "output_type": "stream",
          "text": [
            "Model: \"sequential_7\"\n",
            "_________________________________________________________________\n",
            "Layer (type)                 Output Shape              Param #   \n",
            "=================================================================\n",
            "conv1d_35 (Conv1D)           (None, 448, 128)          10368     \n",
            "_________________________________________________________________\n",
            "batch_normalization_41 (Batc (None, 448, 128)          512       \n",
            "_________________________________________________________________\n",
            "max_pooling1d_35 (MaxPooling (None, 224, 128)          0         \n",
            "_________________________________________________________________\n",
            "conv1d_36 (Conv1D)           (None, 224, 128)          32896     \n",
            "_________________________________________________________________\n",
            "batch_normalization_42 (Batc (None, 224, 128)          512       \n",
            "_________________________________________________________________\n",
            "max_pooling1d_36 (MaxPooling (None, 112, 128)          0         \n",
            "_________________________________________________________________\n",
            "conv1d_37 (Conv1D)           (None, 112, 64)           16448     \n",
            "_________________________________________________________________\n",
            "batch_normalization_43 (Batc (None, 112, 64)           256       \n",
            "_________________________________________________________________\n",
            "max_pooling1d_37 (MaxPooling (None, 56, 64)            0         \n",
            "_________________________________________________________________\n",
            "conv1d_38 (Conv1D)           (None, 56, 64)            8256      \n",
            "_________________________________________________________________\n",
            "batch_normalization_44 (Batc (None, 56, 64)            256       \n",
            "_________________________________________________________________\n",
            "max_pooling1d_38 (MaxPooling (None, 28, 64)            0         \n",
            "_________________________________________________________________\n",
            "conv1d_39 (Conv1D)           (None, 28, 64)            8256      \n",
            "_________________________________________________________________\n",
            "batch_normalization_45 (Batc (None, 28, 64)            256       \n",
            "_________________________________________________________________\n",
            "max_pooling1d_39 (MaxPooling (None, 14, 64)            0         \n",
            "_________________________________________________________________\n",
            "bidirectional_14 (Bidirectio (None, 14, 128)           49920     \n",
            "_________________________________________________________________\n",
            "bidirectional_15 (Bidirectio (None, 128)               74496     \n",
            "_________________________________________________________________\n",
            "batch_normalization_46 (Batc (None, 128)               512       \n",
            "_________________________________________________________________\n",
            "flatten_6 (Flatten)          (None, 128)               0         \n",
            "_________________________________________________________________\n",
            "dense_6 (Dense)              (None, 3)                 387       \n",
            "_________________________________________________________________\n",
            "activation_6 (Activation)    (None, 3)                 0         \n",
            "=================================================================\n",
            "Total params: 203,331\n",
            "Trainable params: 202,179\n",
            "Non-trainable params: 1,152\n",
            "_________________________________________________________________\n"
          ],
          "name": "stdout"
        }
      ]
    },
    {
      "cell_type": "code",
      "metadata": {
        "id": "knBfZAmDnVDX",
        "colab_type": "code",
        "colab": {
          "base_uri": "https://localhost:8080/",
          "height": 735
        },
        "outputId": "6191d31c-9c85-49bf-873b-b160ab1c7d3c"
      },
      "source": [
        "EPOCHS=50\n",
        "BATCH_SIZE = 64\n",
        "rlop = ReduceLROnPlateau(monitor='val_loss',factor=0.5,patience=5)\n",
        "checkpoint = ModelCheckpoint(\"model.h5\", monitor='val_loss', verbose=1, save_best_only=True, mode='min')\n",
        "#early = EarlyStopping(monitor='val_loss', mode='min')\n",
        "callback = [checkpoint]\n",
        "history = model.fit(X1_train, y1_train, epochs = EPOCHS, batch_size= BATCH_SIZE, validation_data=(X1_val, y1_val),verbose = 1, callbacks = [callback,rlop])"
      ],
      "execution_count": 105,
      "outputs": [
        {
          "output_type": "stream",
          "text": [
            "Epoch 1/50\n"
          ],
          "name": "stdout"
        },
        {
          "output_type": "error",
          "ename": "TypeError",
          "evalue": "ignored",
          "traceback": [
            "\u001b[0;31m---------------------------------------------------------------------------\u001b[0m",
            "\u001b[0;31mTypeError\u001b[0m                                 Traceback (most recent call last)",
            "\u001b[0;32m<ipython-input-105-ba5f476f4c06>\u001b[0m in \u001b[0;36m<module>\u001b[0;34m()\u001b[0m\n\u001b[1;32m      5\u001b[0m \u001b[0;31m#early = EarlyStopping(monitor='val_loss', mode='min')\u001b[0m\u001b[0;34m\u001b[0m\u001b[0;34m\u001b[0m\u001b[0;34m\u001b[0m\u001b[0m\n\u001b[1;32m      6\u001b[0m \u001b[0mcallback\u001b[0m \u001b[0;34m=\u001b[0m \u001b[0;34m[\u001b[0m\u001b[0mcheckpoint\u001b[0m\u001b[0;34m]\u001b[0m\u001b[0;34m\u001b[0m\u001b[0;34m\u001b[0m\u001b[0m\n\u001b[0;32m----> 7\u001b[0;31m \u001b[0mhistory\u001b[0m \u001b[0;34m=\u001b[0m \u001b[0mmodel\u001b[0m\u001b[0;34m.\u001b[0m\u001b[0mfit\u001b[0m\u001b[0;34m(\u001b[0m\u001b[0mX1_train\u001b[0m\u001b[0;34m,\u001b[0m \u001b[0my1_train\u001b[0m\u001b[0;34m,\u001b[0m \u001b[0mepochs\u001b[0m \u001b[0;34m=\u001b[0m \u001b[0mEPOCHS\u001b[0m\u001b[0;34m,\u001b[0m \u001b[0mbatch_size\u001b[0m\u001b[0;34m=\u001b[0m \u001b[0mBATCH_SIZE\u001b[0m\u001b[0;34m,\u001b[0m \u001b[0mvalidation_data\u001b[0m\u001b[0;34m=\u001b[0m\u001b[0;34m(\u001b[0m\u001b[0mX1_val\u001b[0m\u001b[0;34m,\u001b[0m \u001b[0my1_val\u001b[0m\u001b[0;34m)\u001b[0m\u001b[0;34m,\u001b[0m\u001b[0mverbose\u001b[0m \u001b[0;34m=\u001b[0m \u001b[0;36m1\u001b[0m\u001b[0;34m,\u001b[0m \u001b[0mcallbacks\u001b[0m \u001b[0;34m=\u001b[0m \u001b[0;34m[\u001b[0m\u001b[0mcallback\u001b[0m\u001b[0;34m,\u001b[0m\u001b[0mrlop\u001b[0m\u001b[0;34m]\u001b[0m\u001b[0;34m)\u001b[0m\u001b[0;34m\u001b[0m\u001b[0;34m\u001b[0m\u001b[0m\n\u001b[0m",
            "\u001b[0;32m/usr/local/lib/python3.6/dist-packages/tensorflow/python/keras/engine/training.py\u001b[0m in \u001b[0;36m_method_wrapper\u001b[0;34m(self, *args, **kwargs)\u001b[0m\n\u001b[1;32m     64\u001b[0m   \u001b[0;32mdef\u001b[0m \u001b[0m_method_wrapper\u001b[0m\u001b[0;34m(\u001b[0m\u001b[0mself\u001b[0m\u001b[0;34m,\u001b[0m \u001b[0;34m*\u001b[0m\u001b[0margs\u001b[0m\u001b[0;34m,\u001b[0m \u001b[0;34m**\u001b[0m\u001b[0mkwargs\u001b[0m\u001b[0;34m)\u001b[0m\u001b[0;34m:\u001b[0m\u001b[0;34m\u001b[0m\u001b[0;34m\u001b[0m\u001b[0m\n\u001b[1;32m     65\u001b[0m     \u001b[0;32mif\u001b[0m \u001b[0;32mnot\u001b[0m \u001b[0mself\u001b[0m\u001b[0;34m.\u001b[0m\u001b[0m_in_multi_worker_mode\u001b[0m\u001b[0;34m(\u001b[0m\u001b[0;34m)\u001b[0m\u001b[0;34m:\u001b[0m  \u001b[0;31m# pylint: disable=protected-access\u001b[0m\u001b[0;34m\u001b[0m\u001b[0;34m\u001b[0m\u001b[0m\n\u001b[0;32m---> 66\u001b[0;31m       \u001b[0;32mreturn\u001b[0m \u001b[0mmethod\u001b[0m\u001b[0;34m(\u001b[0m\u001b[0mself\u001b[0m\u001b[0;34m,\u001b[0m \u001b[0;34m*\u001b[0m\u001b[0margs\u001b[0m\u001b[0;34m,\u001b[0m \u001b[0;34m**\u001b[0m\u001b[0mkwargs\u001b[0m\u001b[0;34m)\u001b[0m\u001b[0;34m\u001b[0m\u001b[0;34m\u001b[0m\u001b[0m\n\u001b[0m\u001b[1;32m     67\u001b[0m \u001b[0;34m\u001b[0m\u001b[0m\n\u001b[1;32m     68\u001b[0m     \u001b[0;31m# Running inside `run_distribute_coordinator` already.\u001b[0m\u001b[0;34m\u001b[0m\u001b[0;34m\u001b[0m\u001b[0;34m\u001b[0m\u001b[0m\n",
            "\u001b[0;32m/usr/local/lib/python3.6/dist-packages/tensorflow/python/keras/engine/training.py\u001b[0m in \u001b[0;36mfit\u001b[0;34m(self, x, y, batch_size, epochs, verbose, callbacks, validation_split, validation_data, shuffle, class_weight, sample_weight, initial_epoch, steps_per_epoch, validation_steps, validation_batch_size, validation_freq, max_queue_size, workers, use_multiprocessing)\u001b[0m\n\u001b[1;32m    846\u001b[0m                 batch_size=batch_size):\n\u001b[1;32m    847\u001b[0m               \u001b[0mcallbacks\u001b[0m\u001b[0;34m.\u001b[0m\u001b[0mon_train_batch_begin\u001b[0m\u001b[0;34m(\u001b[0m\u001b[0mstep\u001b[0m\u001b[0;34m)\u001b[0m\u001b[0;34m\u001b[0m\u001b[0;34m\u001b[0m\u001b[0m\n\u001b[0;32m--> 848\u001b[0;31m               \u001b[0mtmp_logs\u001b[0m \u001b[0;34m=\u001b[0m \u001b[0mtrain_function\u001b[0m\u001b[0;34m(\u001b[0m\u001b[0miterator\u001b[0m\u001b[0;34m)\u001b[0m\u001b[0;34m\u001b[0m\u001b[0;34m\u001b[0m\u001b[0m\n\u001b[0m\u001b[1;32m    849\u001b[0m               \u001b[0;31m# Catch OutOfRangeError for Datasets of unknown size.\u001b[0m\u001b[0;34m\u001b[0m\u001b[0;34m\u001b[0m\u001b[0;34m\u001b[0m\u001b[0m\n\u001b[1;32m    850\u001b[0m               \u001b[0;31m# This blocks until the batch has finished executing.\u001b[0m\u001b[0;34m\u001b[0m\u001b[0;34m\u001b[0m\u001b[0;34m\u001b[0m\u001b[0m\n",
            "\u001b[0;32m/usr/local/lib/python3.6/dist-packages/tensorflow/python/eager/def_function.py\u001b[0m in \u001b[0;36m__call__\u001b[0;34m(self, *args, **kwds)\u001b[0m\n\u001b[1;32m    578\u001b[0m         \u001b[0mxla_context\u001b[0m\u001b[0;34m.\u001b[0m\u001b[0mExit\u001b[0m\u001b[0;34m(\u001b[0m\u001b[0;34m)\u001b[0m\u001b[0;34m\u001b[0m\u001b[0;34m\u001b[0m\u001b[0m\n\u001b[1;32m    579\u001b[0m     \u001b[0;32melse\u001b[0m\u001b[0;34m:\u001b[0m\u001b[0;34m\u001b[0m\u001b[0;34m\u001b[0m\u001b[0m\n\u001b[0;32m--> 580\u001b[0;31m       \u001b[0mresult\u001b[0m \u001b[0;34m=\u001b[0m \u001b[0mself\u001b[0m\u001b[0;34m.\u001b[0m\u001b[0m_call\u001b[0m\u001b[0;34m(\u001b[0m\u001b[0;34m*\u001b[0m\u001b[0margs\u001b[0m\u001b[0;34m,\u001b[0m \u001b[0;34m**\u001b[0m\u001b[0mkwds\u001b[0m\u001b[0;34m)\u001b[0m\u001b[0;34m\u001b[0m\u001b[0;34m\u001b[0m\u001b[0m\n\u001b[0m\u001b[1;32m    581\u001b[0m \u001b[0;34m\u001b[0m\u001b[0m\n\u001b[1;32m    582\u001b[0m     \u001b[0;32mif\u001b[0m \u001b[0mtracing_count\u001b[0m \u001b[0;34m==\u001b[0m \u001b[0mself\u001b[0m\u001b[0;34m.\u001b[0m\u001b[0m_get_tracing_count\u001b[0m\u001b[0;34m(\u001b[0m\u001b[0;34m)\u001b[0m\u001b[0;34m:\u001b[0m\u001b[0;34m\u001b[0m\u001b[0;34m\u001b[0m\u001b[0m\n",
            "\u001b[0;32m/usr/local/lib/python3.6/dist-packages/tensorflow/python/eager/def_function.py\u001b[0m in \u001b[0;36m_call\u001b[0;34m(self, *args, **kwds)\u001b[0m\n\u001b[1;32m    609\u001b[0m       \u001b[0;31m# In this case we have created variables on the first call, so we run the\u001b[0m\u001b[0;34m\u001b[0m\u001b[0;34m\u001b[0m\u001b[0;34m\u001b[0m\u001b[0m\n\u001b[1;32m    610\u001b[0m       \u001b[0;31m# defunned version which is guaranteed to never create variables.\u001b[0m\u001b[0;34m\u001b[0m\u001b[0;34m\u001b[0m\u001b[0;34m\u001b[0m\u001b[0m\n\u001b[0;32m--> 611\u001b[0;31m       \u001b[0;32mreturn\u001b[0m \u001b[0mself\u001b[0m\u001b[0;34m.\u001b[0m\u001b[0m_stateless_fn\u001b[0m\u001b[0;34m(\u001b[0m\u001b[0;34m*\u001b[0m\u001b[0margs\u001b[0m\u001b[0;34m,\u001b[0m \u001b[0;34m**\u001b[0m\u001b[0mkwds\u001b[0m\u001b[0;34m)\u001b[0m  \u001b[0;31m# pylint: disable=not-callable\u001b[0m\u001b[0;34m\u001b[0m\u001b[0;34m\u001b[0m\u001b[0m\n\u001b[0m\u001b[1;32m    612\u001b[0m     \u001b[0;32melif\u001b[0m \u001b[0mself\u001b[0m\u001b[0;34m.\u001b[0m\u001b[0m_stateful_fn\u001b[0m \u001b[0;32mis\u001b[0m \u001b[0;32mnot\u001b[0m \u001b[0;32mNone\u001b[0m\u001b[0;34m:\u001b[0m\u001b[0;34m\u001b[0m\u001b[0;34m\u001b[0m\u001b[0m\n\u001b[1;32m    613\u001b[0m       \u001b[0;31m# Release the lock early so that multiple threads can perform the call\u001b[0m\u001b[0;34m\u001b[0m\u001b[0;34m\u001b[0m\u001b[0;34m\u001b[0m\u001b[0m\n",
            "\u001b[0;31mTypeError\u001b[0m: 'NoneType' object is not callable"
          ]
        }
      ]
    },
    {
      "cell_type": "code",
      "metadata": {
        "id": "q0_KTmrmaEBt",
        "colab_type": "code",
        "outputId": "e66a804b-ecc1-4821-f520-d0c1dd7bedcb",
        "colab": {
          "base_uri": "https://localhost:8080/",
          "height": 295
        }
      },
      "source": [
        "plt.plot(history.history['loss'])\n",
        "plt.plot(history.history['val_loss'])\n",
        "plt.title('model train vs validation loss')\n",
        "plt.ylabel('loss')\n",
        "plt.xlabel('epoch')\n",
        "plt.legend(['train', 'validation'], loc='upper right')\n",
        "plt.show()"
      ],
      "execution_count": 94,
      "outputs": [
        {
          "output_type": "display_data",
          "data": {
            "image/png": "[encoded data removed]",
            "text/plain": [
              "<Figure size 432x288 with 1 Axes>"
            ]
          },
          "metadata": {
            "tags": [],
            "needs_background": "light"
          }
        }
      ]
    },
    {
      "cell_type": "code",
      "metadata": {
        "id": "B_R9Zhs6jGKn",
        "colab_type": "code",
        "outputId": "3e712e42-2cfd-4e69-e27c-70973a33f09b",
        "colab": {
          "base_uri": "https://localhost:8080/",
          "height": 34
        }
      },
      "source": [
        "predictions = model.predict(X1_test, batch_size = 64, verbose = 1)"
      ],
      "execution_count": 95,
      "outputs": [
        {
          "output_type": "stream",
          "text": [
            "18/18 [==============================] - 1s 49ms/step\n"
          ],
          "name": "stdout"
        }
      ]
    },
    {
      "cell_type": "code",
      "metadata": {
        "id": "IcT2WhkhLftM",
        "colab_type": "code",
        "outputId": "a6143ee7-5045-4288-ac1d-0b1524025e9f",
        "colab": {
          "base_uri": "https://localhost:8080/",
          "height": 34
        }
      },
      "source": [
        "len(predictions)"
      ],
      "execution_count": 99,
      "outputs": [
        {
          "output_type": "execute_result",
          "data": {
            "text/plain": [
              "1144"
            ]
          },
          "metadata": {
            "tags": []
          },
          "execution_count": 99
        }
      ]
    },
    {
      "cell_type": "code",
      "metadata": {
        "id": "1LSTcoduoawa",
        "colab_type": "code",
        "colab": {
          "base_uri": "https://localhost:8080/",
          "height": 136
        },
        "outputId": "80aa9fe0-0dc1-4827-944c-0fdb0b29da0f"
      },
      "source": [
        "predictions"
      ],
      "execution_count": 100,
      "outputs": [
        {
          "output_type": "execute_result",
          "data": {
            "text/plain": [
              "array([[0.5400729 , 0.16249028, 0.29743674],\n",
              "       [0.54062474, 0.16139238, 0.29798293],\n",
              "       [0.5401304 , 0.1623917 , 0.29747793],\n",
              "       ...,\n",
              "       [0.59090406, 0.11814252, 0.29095343],\n",
              "       [0.59090406, 0.11814252, 0.29095343],\n",
              "       [0.59090406, 0.11814252, 0.29095343]], dtype=float32)"
            ]
          },
          "metadata": {
            "tags": []
          },
          "execution_count": 100
        }
      ]
    },
    {
      "cell_type": "code",
      "metadata": {
        "id": "mFyQYz5RjRVJ",
        "colab_type": "code",
        "outputId": "3a59af03-949d-45df-cd03-b950ed8770f5",
        "colab": {
          "base_uri": "https://localhost:8080/",
          "height": 164
        }
      },
      "source": [
        "UAR(y1_test, predictions)"
      ],
      "execution_count": 1,
      "outputs": [
        {
          "output_type": "error",
          "ename": "NameError",
          "evalue": "ignored",
          "traceback": [
            "\u001b[0;31m---------------------------------------------------------------------------\u001b[0m",
            "\u001b[0;31mNameError\u001b[0m                                 Traceback (most recent call last)",
            "\u001b[0;32m<ipython-input-1-a99e26d265ae>\u001b[0m in \u001b[0;36m<module>\u001b[0;34m()\u001b[0m\n\u001b[0;32m----> 1\u001b[0;31m \u001b[0mUAR\u001b[0m\u001b[0;34m(\u001b[0m\u001b[0my1_test\u001b[0m\u001b[0;34m,\u001b[0m \u001b[0mpredictions\u001b[0m\u001b[0;34m)\u001b[0m\u001b[0;34m\u001b[0m\u001b[0;34m\u001b[0m\u001b[0m\n\u001b[0m",
            "\u001b[0;31mNameError\u001b[0m: name 'UAR' is not defined"
          ]
        }
      ]
    }
  ]
}